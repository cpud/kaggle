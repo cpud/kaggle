{
 "cells": [
  {
   "cell_type": "markdown",
   "metadata": {},
   "source": [
    "# TODO:\n",
    "        1) further location cleaning!!!!!!!!!!!!!!!!!!!!!!!\n",
    "        \n",
    "        1a) cross val: accuracies = cross_val_score(model, features, labels, scoring='accuracy', cv=CV)\n",
    "        1b) further location cleaning / explanations for tfidf and count (and f1/precision/recall)\n",
    "        1c) best way to present acc/prec/recall/f1 comparisons???\n",
    "        1d) n-gram viz thing\n",
    "        2) which countries most accurate in?\n",
    "        3) why does RF and NB do better with count?\n",
    "        4) BERT transfer learning? maybe?\n",
    "        6) train unique RNN? ehhhhh"
   ]
  },
  {
   "cell_type": "code",
   "execution_count": 87,
   "metadata": {},
   "outputs": [],
   "source": [
    "import numpy as np \n",
    "import pandas as pd \n",
    "import seaborn as sns\n",
    "import matplotlib.pyplot as plt\n",
    "import re \n",
    "import string\n",
    "from sklearn.model_selection import train_test_split\n",
    "from sklearn.linear_model import LogisticRegression\n",
    "from sklearn.feature_extraction.text import CountVectorizer, TfidfVectorizer\n",
    "from sklearn.naive_bayes import MultinomialNB\n",
    "from sklearn.svm import LinearSVC\n",
    "from sklearn.metrics import accuracy_score, classification_report\n",
    "from sklearn.pipeline import Pipeline\n",
    "from sklearn.ensemble import RandomForestClassifier\n",
    "from wordcloud import WordCloud\n",
    "import chart_studio.plotly as py\n",
    "import plotly.graph_objects as go\n",
    "from plotly.offline import download_plotlyjs, plot, iplot\n",
    "\n",
    "from nltk.corpus import stopwords\n",
    "from nltk.stem import PorterStemmer\n",
    "from nltk.stem import WordNetLemmatizer\n",
    "from nltk.tokenize import TweetTokenizer\n",
    "\n",
    "from PIL import Image\n",
    "from wordcloud import WordCloud, STOPWORDS, ImageColorGenerator\n",
    "import os\n",
    "from os import path"
   ]
  },
  {
   "cell_type": "code",
   "execution_count": 88,
   "metadata": {},
   "outputs": [
    {
     "name": "stderr",
     "output_type": "stream",
     "text": [
      "[nltk_data] Downloading package stopwords to /home/cam/nltk_data...\n",
      "[nltk_data]   Package stopwords is already up-to-date!\n"
     ]
    },
    {
     "data": {
      "text/plain": [
       "True"
      ]
     },
     "execution_count": 88,
     "metadata": {},
     "output_type": "execute_result"
    }
   ],
   "source": [
    "import nltk\n",
    "nltk.download('stopwords')"
   ]
  },
  {
   "cell_type": "code",
   "execution_count": 89,
   "metadata": {},
   "outputs": [
    {
     "name": "stderr",
     "output_type": "stream",
     "text": [
      "[nltk_data] Downloading package wordnet to /home/cam/nltk_data...\n",
      "[nltk_data]   Package wordnet is already up-to-date!\n"
     ]
    },
    {
     "data": {
      "text/plain": [
       "True"
      ]
     },
     "execution_count": 89,
     "metadata": {},
     "output_type": "execute_result"
    }
   ],
   "source": [
    "import nltk\n",
    "nltk.download('wordnet')"
   ]
  },
  {
   "cell_type": "markdown",
   "metadata": {},
   "source": [
    "## 1) Load in data"
   ]
  },
  {
   "cell_type": "code",
   "execution_count": 90,
   "metadata": {},
   "outputs": [
    {
     "data": {
      "text/html": [
       "<div>\n",
       "<style scoped>\n",
       "    .dataframe tbody tr th:only-of-type {\n",
       "        vertical-align: middle;\n",
       "    }\n",
       "\n",
       "    .dataframe tbody tr th {\n",
       "        vertical-align: top;\n",
       "    }\n",
       "\n",
       "    .dataframe thead th {\n",
       "        text-align: right;\n",
       "    }\n",
       "</style>\n",
       "<table border=\"1\" class=\"dataframe\">\n",
       "  <thead>\n",
       "    <tr style=\"text-align: right;\">\n",
       "      <th></th>\n",
       "      <th>UserName</th>\n",
       "      <th>ScreenName</th>\n",
       "      <th>Location</th>\n",
       "      <th>TweetAt</th>\n",
       "      <th>OriginalTweet</th>\n",
       "      <th>Sentiment</th>\n",
       "    </tr>\n",
       "  </thead>\n",
       "  <tbody>\n",
       "    <tr>\n",
       "      <th>0</th>\n",
       "      <td>3799</td>\n",
       "      <td>48751</td>\n",
       "      <td>London</td>\n",
       "      <td>16-03-2020</td>\n",
       "      <td>@MeNyrbie @Phil_Gahan @Chrisitv https://t.co/i...</td>\n",
       "      <td>Neutral</td>\n",
       "    </tr>\n",
       "    <tr>\n",
       "      <th>1</th>\n",
       "      <td>3800</td>\n",
       "      <td>48752</td>\n",
       "      <td>UK</td>\n",
       "      <td>16-03-2020</td>\n",
       "      <td>advice Talk to your neighbours family to excha...</td>\n",
       "      <td>Positive</td>\n",
       "    </tr>\n",
       "    <tr>\n",
       "      <th>2</th>\n",
       "      <td>3801</td>\n",
       "      <td>48753</td>\n",
       "      <td>Vagabonds</td>\n",
       "      <td>16-03-2020</td>\n",
       "      <td>Coronavirus Australia: Woolworths to give elde...</td>\n",
       "      <td>Positive</td>\n",
       "    </tr>\n",
       "    <tr>\n",
       "      <th>3</th>\n",
       "      <td>3802</td>\n",
       "      <td>48754</td>\n",
       "      <td>NaN</td>\n",
       "      <td>16-03-2020</td>\n",
       "      <td>My food stock is not the only one which is emp...</td>\n",
       "      <td>Positive</td>\n",
       "    </tr>\n",
       "    <tr>\n",
       "      <th>4</th>\n",
       "      <td>3803</td>\n",
       "      <td>48755</td>\n",
       "      <td>NaN</td>\n",
       "      <td>16-03-2020</td>\n",
       "      <td>Me, ready to go at supermarket during the #COV...</td>\n",
       "      <td>Extremely Negative</td>\n",
       "    </tr>\n",
       "  </tbody>\n",
       "</table>\n",
       "</div>"
      ],
      "text/plain": [
       "   UserName  ScreenName   Location     TweetAt  \\\n",
       "0      3799       48751     London  16-03-2020   \n",
       "1      3800       48752         UK  16-03-2020   \n",
       "2      3801       48753  Vagabonds  16-03-2020   \n",
       "3      3802       48754        NaN  16-03-2020   \n",
       "4      3803       48755        NaN  16-03-2020   \n",
       "\n",
       "                                       OriginalTweet           Sentiment  \n",
       "0  @MeNyrbie @Phil_Gahan @Chrisitv https://t.co/i...             Neutral  \n",
       "1  advice Talk to your neighbours family to excha...            Positive  \n",
       "2  Coronavirus Australia: Woolworths to give elde...            Positive  \n",
       "3  My food stock is not the only one which is emp...            Positive  \n",
       "4  Me, ready to go at supermarket during the #COV...  Extremely Negative  "
      ]
     },
     "execution_count": 90,
     "metadata": {},
     "output_type": "execute_result"
    }
   ],
   "source": [
    "# Load in training data\n",
    "train = pd.read_csv('Corona_NLP_train.csv', encoding = 'latin1')\n",
    "# Copy training data\n",
    "df = train.copy()\n",
    "df.head()"
   ]
  },
  {
   "cell_type": "code",
   "execution_count": 91,
   "metadata": {},
   "outputs": [
    {
     "data": {
      "text/html": [
       "<div>\n",
       "<style scoped>\n",
       "    .dataframe tbody tr th:only-of-type {\n",
       "        vertical-align: middle;\n",
       "    }\n",
       "\n",
       "    .dataframe tbody tr th {\n",
       "        vertical-align: top;\n",
       "    }\n",
       "\n",
       "    .dataframe thead th {\n",
       "        text-align: right;\n",
       "    }\n",
       "</style>\n",
       "<table border=\"1\" class=\"dataframe\">\n",
       "  <thead>\n",
       "    <tr style=\"text-align: right;\">\n",
       "      <th></th>\n",
       "      <th>UserName</th>\n",
       "      <th>ScreenName</th>\n",
       "      <th>Location</th>\n",
       "      <th>TweetAt</th>\n",
       "      <th>OriginalTweet</th>\n",
       "      <th>Sentiment</th>\n",
       "    </tr>\n",
       "  </thead>\n",
       "  <tbody>\n",
       "    <tr>\n",
       "      <th>0</th>\n",
       "      <td>1</td>\n",
       "      <td>44953</td>\n",
       "      <td>NYC</td>\n",
       "      <td>02-03-2020</td>\n",
       "      <td>TRENDING: New Yorkers encounter empty supermar...</td>\n",
       "      <td>Extremely Negative</td>\n",
       "    </tr>\n",
       "    <tr>\n",
       "      <th>1</th>\n",
       "      <td>2</td>\n",
       "      <td>44954</td>\n",
       "      <td>Seattle, WA</td>\n",
       "      <td>02-03-2020</td>\n",
       "      <td>When I couldn't find hand sanitizer at Fred Me...</td>\n",
       "      <td>Positive</td>\n",
       "    </tr>\n",
       "    <tr>\n",
       "      <th>2</th>\n",
       "      <td>3</td>\n",
       "      <td>44955</td>\n",
       "      <td>NaN</td>\n",
       "      <td>02-03-2020</td>\n",
       "      <td>Find out how you can protect yourself and love...</td>\n",
       "      <td>Extremely Positive</td>\n",
       "    </tr>\n",
       "    <tr>\n",
       "      <th>3</th>\n",
       "      <td>4</td>\n",
       "      <td>44956</td>\n",
       "      <td>Chicagoland</td>\n",
       "      <td>02-03-2020</td>\n",
       "      <td>#Panic buying hits #NewYork City as anxious sh...</td>\n",
       "      <td>Negative</td>\n",
       "    </tr>\n",
       "    <tr>\n",
       "      <th>4</th>\n",
       "      <td>5</td>\n",
       "      <td>44957</td>\n",
       "      <td>Melbourne, Victoria</td>\n",
       "      <td>03-03-2020</td>\n",
       "      <td>#toiletpaper #dunnypaper #coronavirus #coronav...</td>\n",
       "      <td>Neutral</td>\n",
       "    </tr>\n",
       "  </tbody>\n",
       "</table>\n",
       "</div>"
      ],
      "text/plain": [
       "   UserName  ScreenName             Location     TweetAt  \\\n",
       "0         1       44953                  NYC  02-03-2020   \n",
       "1         2       44954          Seattle, WA  02-03-2020   \n",
       "2         3       44955                  NaN  02-03-2020   \n",
       "3         4       44956          Chicagoland  02-03-2020   \n",
       "4         5       44957  Melbourne, Victoria  03-03-2020   \n",
       "\n",
       "                                       OriginalTweet           Sentiment  \n",
       "0  TRENDING: New Yorkers encounter empty supermar...  Extremely Negative  \n",
       "1  When I couldn't find hand sanitizer at Fred Me...            Positive  \n",
       "2  Find out how you can protect yourself and love...  Extremely Positive  \n",
       "3  #Panic buying hits #NewYork City as anxious sh...            Negative  \n",
       "4  #toiletpaper #dunnypaper #coronavirus #coronav...             Neutral  "
      ]
     },
     "execution_count": 91,
     "metadata": {},
     "output_type": "execute_result"
    }
   ],
   "source": [
    "# Load in test data\n",
    "test_df = pd.read_csv('Corona_NLP_test.csv', encoding = 'latin1')\n",
    "test_df.head()"
   ]
  },
  {
   "cell_type": "markdown",
   "metadata": {},
   "source": [
    "## 2) Data Cleaning"
   ]
  },
  {
   "cell_type": "code",
   "execution_count": 92,
   "metadata": {},
   "outputs": [
    {
     "name": "stdout",
     "output_type": "stream",
     "text": [
      "<class 'pandas.core.frame.DataFrame'>\n",
      "RangeIndex: 41157 entries, 0 to 41156\n",
      "Data columns (total 6 columns):\n",
      " #   Column         Non-Null Count  Dtype \n",
      "---  ------         --------------  ----- \n",
      " 0   UserName       41157 non-null  int64 \n",
      " 1   ScreenName     41157 non-null  int64 \n",
      " 2   Location       32567 non-null  object\n",
      " 3   TweetAt        41157 non-null  object\n",
      " 4   OriginalTweet  41157 non-null  object\n",
      " 5   Sentiment      41157 non-null  object\n",
      "dtypes: int64(2), object(4)\n",
      "memory usage: 1.9+ MB\n"
     ]
    }
   ],
   "source": [
    "# Check for nulls\n",
    "df.info()"
   ]
  },
  {
   "cell_type": "code",
   "execution_count": 93,
   "metadata": {},
   "outputs": [
    {
     "data": {
      "text/html": [
       "<div>\n",
       "<style scoped>\n",
       "    .dataframe tbody tr th:only-of-type {\n",
       "        vertical-align: middle;\n",
       "    }\n",
       "\n",
       "    .dataframe tbody tr th {\n",
       "        vertical-align: top;\n",
       "    }\n",
       "\n",
       "    .dataframe thead th {\n",
       "        text-align: right;\n",
       "    }\n",
       "</style>\n",
       "<table border=\"1\" class=\"dataframe\">\n",
       "  <thead>\n",
       "    <tr style=\"text-align: right;\">\n",
       "      <th></th>\n",
       "      <th>UserName</th>\n",
       "      <th>ScreenName</th>\n",
       "      <th>Location</th>\n",
       "      <th>TweetAt</th>\n",
       "      <th>OriginalTweet</th>\n",
       "      <th>Sentiment</th>\n",
       "    </tr>\n",
       "  </thead>\n",
       "  <tbody>\n",
       "    <tr>\n",
       "      <th>0</th>\n",
       "      <td>3799</td>\n",
       "      <td>48751</td>\n",
       "      <td>London</td>\n",
       "      <td>16-03-2020</td>\n",
       "      <td>@MeNyrbie @Phil_Gahan @Chrisitv https://t.co/i...</td>\n",
       "      <td>Neutral</td>\n",
       "    </tr>\n",
       "    <tr>\n",
       "      <th>1</th>\n",
       "      <td>3800</td>\n",
       "      <td>48752</td>\n",
       "      <td>UK</td>\n",
       "      <td>16-03-2020</td>\n",
       "      <td>advice Talk to your neighbours family to excha...</td>\n",
       "      <td>Positive</td>\n",
       "    </tr>\n",
       "    <tr>\n",
       "      <th>2</th>\n",
       "      <td>3801</td>\n",
       "      <td>48753</td>\n",
       "      <td>Vagabonds</td>\n",
       "      <td>16-03-2020</td>\n",
       "      <td>Coronavirus Australia: Woolworths to give elde...</td>\n",
       "      <td>Positive</td>\n",
       "    </tr>\n",
       "    <tr>\n",
       "      <th>3</th>\n",
       "      <td>3802</td>\n",
       "      <td>48754</td>\n",
       "      <td>None</td>\n",
       "      <td>16-03-2020</td>\n",
       "      <td>My food stock is not the only one which is emp...</td>\n",
       "      <td>Positive</td>\n",
       "    </tr>\n",
       "    <tr>\n",
       "      <th>4</th>\n",
       "      <td>3803</td>\n",
       "      <td>48755</td>\n",
       "      <td>None</td>\n",
       "      <td>16-03-2020</td>\n",
       "      <td>Me, ready to go at supermarket during the #COV...</td>\n",
       "      <td>Extremely Negative</td>\n",
       "    </tr>\n",
       "  </tbody>\n",
       "</table>\n",
       "</div>"
      ],
      "text/plain": [
       "   UserName  ScreenName   Location     TweetAt  \\\n",
       "0      3799       48751     London  16-03-2020   \n",
       "1      3800       48752         UK  16-03-2020   \n",
       "2      3801       48753  Vagabonds  16-03-2020   \n",
       "3      3802       48754       None  16-03-2020   \n",
       "4      3803       48755       None  16-03-2020   \n",
       "\n",
       "                                       OriginalTweet           Sentiment  \n",
       "0  @MeNyrbie @Phil_Gahan @Chrisitv https://t.co/i...             Neutral  \n",
       "1  advice Talk to your neighbours family to excha...            Positive  \n",
       "2  Coronavirus Australia: Woolworths to give elde...            Positive  \n",
       "3  My food stock is not the only one which is emp...            Positive  \n",
       "4  Me, ready to go at supermarket during the #COV...  Extremely Negative  "
      ]
     },
     "execution_count": 93,
     "metadata": {},
     "output_type": "execute_result"
    }
   ],
   "source": [
    "# Replace na with 'None'\n",
    "df['Location'].fillna('None', inplace = True)\n",
    "df.head()"
   ]
  },
  {
   "cell_type": "code",
   "execution_count": 94,
   "metadata": {},
   "outputs": [],
   "source": [
    "# Join stopwords together and set them for use in cleaning function.\n",
    "\", \".join(stopwords.words('english'))\n",
    "stops = set(stopwords.words('english'))\n",
    "\n",
    "# Function that cleans tweets for classification. \n",
    "def clean_tweet(tweet):\n",
    "    # Remove hyperlinks.\n",
    "    tweet= re.sub(r'https?://\\S+|www\\.\\S+','',tweet)\n",
    "    # Remove html\n",
    "    tweet = re.sub(r'<.*?>','',tweet)\n",
    "    # Remove numbers (Do we want to remove numbers? Death toll?)\n",
    "    tweet = re.sub(r'\\d+','',tweet)\n",
    "    # Remove mentions\n",
    "    tweet = re.sub(r'@\\w+','',tweet)\n",
    "    # Remove punctuation\n",
    "    tweet = re.sub(r'[^\\w\\s\\d]','',tweet)\n",
    "    # Remove whitespace\n",
    "    tweet = re.sub(r'\\s+',' ',tweet).strip()\n",
    "    # Remove stopwords\n",
    "    tweet = \" \".join([word for word in str(tweet).split() if word not in stops])\n",
    "    \n",
    "    return tweet.lower()"
   ]
  },
  {
   "cell_type": "code",
   "execution_count": 95,
   "metadata": {},
   "outputs": [
    {
     "data": {
      "text/plain": [
       "'advice talk neighbours family exchange phone numbers create contact list phone numbers neighbours schools employer chemist gp set online shopping accounts poss adequate supplies regular meds order'"
      ]
     },
     "execution_count": 95,
     "metadata": {},
     "output_type": "execute_result"
    }
   ],
   "source": [
    "# Check function\n",
    "example2 = df['OriginalTweet'][1]\n",
    "clean_tweet(example2)"
   ]
  },
  {
   "cell_type": "code",
   "execution_count": 96,
   "metadata": {},
   "outputs": [
    {
     "data": {
      "text/html": [
       "<div>\n",
       "<style scoped>\n",
       "    .dataframe tbody tr th:only-of-type {\n",
       "        vertical-align: middle;\n",
       "    }\n",
       "\n",
       "    .dataframe tbody tr th {\n",
       "        vertical-align: top;\n",
       "    }\n",
       "\n",
       "    .dataframe thead th {\n",
       "        text-align: right;\n",
       "    }\n",
       "</style>\n",
       "<table border=\"1\" class=\"dataframe\">\n",
       "  <thead>\n",
       "    <tr style=\"text-align: right;\">\n",
       "      <th></th>\n",
       "      <th>UserName</th>\n",
       "      <th>ScreenName</th>\n",
       "      <th>Location</th>\n",
       "      <th>TweetAt</th>\n",
       "      <th>OriginalTweet</th>\n",
       "      <th>Sentiment</th>\n",
       "      <th>newTweet</th>\n",
       "    </tr>\n",
       "  </thead>\n",
       "  <tbody>\n",
       "    <tr>\n",
       "      <th>0</th>\n",
       "      <td>3799</td>\n",
       "      <td>48751</td>\n",
       "      <td>London</td>\n",
       "      <td>16-03-2020</td>\n",
       "      <td>@MeNyrbie @Phil_Gahan @Chrisitv https://t.co/i...</td>\n",
       "      <td>Neutral</td>\n",
       "      <td></td>\n",
       "    </tr>\n",
       "    <tr>\n",
       "      <th>1</th>\n",
       "      <td>3800</td>\n",
       "      <td>48752</td>\n",
       "      <td>UK</td>\n",
       "      <td>16-03-2020</td>\n",
       "      <td>advice Talk to your neighbours family to excha...</td>\n",
       "      <td>Positive</td>\n",
       "      <td>advice talk neighbours family exchange phone n...</td>\n",
       "    </tr>\n",
       "    <tr>\n",
       "      <th>2</th>\n",
       "      <td>3801</td>\n",
       "      <td>48753</td>\n",
       "      <td>Vagabonds</td>\n",
       "      <td>16-03-2020</td>\n",
       "      <td>Coronavirus Australia: Woolworths to give elde...</td>\n",
       "      <td>Positive</td>\n",
       "      <td>coronavirus australia woolworths give elderly ...</td>\n",
       "    </tr>\n",
       "    <tr>\n",
       "      <th>3</th>\n",
       "      <td>3802</td>\n",
       "      <td>48754</td>\n",
       "      <td>None</td>\n",
       "      <td>16-03-2020</td>\n",
       "      <td>My food stock is not the only one which is emp...</td>\n",
       "      <td>Positive</td>\n",
       "      <td>my food stock one empty please dont panic ther...</td>\n",
       "    </tr>\n",
       "    <tr>\n",
       "      <th>4</th>\n",
       "      <td>3803</td>\n",
       "      <td>48755</td>\n",
       "      <td>None</td>\n",
       "      <td>16-03-2020</td>\n",
       "      <td>Me, ready to go at supermarket during the #COV...</td>\n",
       "      <td>Extremely Negative</td>\n",
       "      <td>me ready go supermarket covid outbreak not im ...</td>\n",
       "    </tr>\n",
       "  </tbody>\n",
       "</table>\n",
       "</div>"
      ],
      "text/plain": [
       "   UserName  ScreenName   Location     TweetAt  \\\n",
       "0      3799       48751     London  16-03-2020   \n",
       "1      3800       48752         UK  16-03-2020   \n",
       "2      3801       48753  Vagabonds  16-03-2020   \n",
       "3      3802       48754       None  16-03-2020   \n",
       "4      3803       48755       None  16-03-2020   \n",
       "\n",
       "                                       OriginalTweet           Sentiment  \\\n",
       "0  @MeNyrbie @Phil_Gahan @Chrisitv https://t.co/i...             Neutral   \n",
       "1  advice Talk to your neighbours family to excha...            Positive   \n",
       "2  Coronavirus Australia: Woolworths to give elde...            Positive   \n",
       "3  My food stock is not the only one which is emp...            Positive   \n",
       "4  Me, ready to go at supermarket during the #COV...  Extremely Negative   \n",
       "\n",
       "                                            newTweet  \n",
       "0                                                     \n",
       "1  advice talk neighbours family exchange phone n...  \n",
       "2  coronavirus australia woolworths give elderly ...  \n",
       "3  my food stock one empty please dont panic ther...  \n",
       "4  me ready go supermarket covid outbreak not im ...  "
      ]
     },
     "execution_count": 96,
     "metadata": {},
     "output_type": "execute_result"
    }
   ],
   "source": [
    "# Apply text cleaning function to training and test dataframes.\n",
    "df['newTweet'] = df['OriginalTweet'].apply(lambda x: clean_tweet(x))\n",
    "test_df['newTweet'] = test_df['OriginalTweet'].apply(lambda x: clean_tweet(x))\n",
    "df.head()"
   ]
  },
  {
   "cell_type": "code",
   "execution_count": 97,
   "metadata": {},
   "outputs": [],
   "source": [
    "def token_stem(tweet):\n",
    "    tk = TweetTokenizer()\n",
    "    stemmer = PorterStemmer()\n",
    "    tweet = tk.tokenize(tweet)\n",
    "    tweet = [stemmer.stem(word) for word in tweet]\n",
    "    tweet =  tweet = \" \".join([word for word in tweet])\n",
    "    return tweet"
   ]
  },
  {
   "cell_type": "code",
   "execution_count": 98,
   "metadata": {},
   "outputs": [],
   "source": [
    "def token_lemma(tweet):\n",
    "    tk = TweetTokenizer()\n",
    "    lemma = WordNetLemmatizer()\n",
    "    tweet = tk.tokenize(tweet)\n",
    "    tweet = [lemma.lemmatize(word) for word in tweet]\n",
    "    tweet = \" \".join([word for word in tweet])\n",
    "    return tweet"
   ]
  },
  {
   "cell_type": "code",
   "execution_count": 99,
   "metadata": {},
   "outputs": [
    {
     "data": {
      "text/plain": [
       "'advice talk neighbours family exchange phone numbers create contact list phone numbers neighbours schools employer chemist gp set online shopping accounts poss adequate supplies regular meds order'"
      ]
     },
     "execution_count": 99,
     "metadata": {},
     "output_type": "execute_result"
    }
   ],
   "source": [
    "tweet = df['newTweet'][1]\n",
    "tweet"
   ]
  },
  {
   "cell_type": "code",
   "execution_count": 100,
   "metadata": {},
   "outputs": [
    {
     "data": {
      "text/plain": [
       "'advic talk neighbour famili exchang phone number creat contact list phone number neighbour school employ chemist gp set onlin shop account poss adequ suppli regular med order'"
      ]
     },
     "execution_count": 100,
     "metadata": {},
     "output_type": "execute_result"
    }
   ],
   "source": [
    "token_stem(tweet)"
   ]
  },
  {
   "cell_type": "code",
   "execution_count": 101,
   "metadata": {},
   "outputs": [
    {
     "data": {
      "text/plain": [
       "'advice talk neighbour family exchange phone number create contact list phone number neighbour school employer chemist gp set online shopping account po adequate supply regular med order'"
      ]
     },
     "execution_count": 101,
     "metadata": {},
     "output_type": "execute_result"
    }
   ],
   "source": [
    "token_lemma(tweet)"
   ]
  },
  {
   "cell_type": "code",
   "execution_count": 102,
   "metadata": {},
   "outputs": [],
   "source": [
    "df['stemTweet'] = df['newTweet'].apply(lambda x: token_stem(x))\n",
    "df['lemmaTweet'] = df['newTweet'].apply(lambda x: token_lemma(x))"
   ]
  },
  {
   "cell_type": "code",
   "execution_count": 103,
   "metadata": {},
   "outputs": [
    {
     "data": {
      "text/html": [
       "<div>\n",
       "<style scoped>\n",
       "    .dataframe tbody tr th:only-of-type {\n",
       "        vertical-align: middle;\n",
       "    }\n",
       "\n",
       "    .dataframe tbody tr th {\n",
       "        vertical-align: top;\n",
       "    }\n",
       "\n",
       "    .dataframe thead th {\n",
       "        text-align: right;\n",
       "    }\n",
       "</style>\n",
       "<table border=\"1\" class=\"dataframe\">\n",
       "  <thead>\n",
       "    <tr style=\"text-align: right;\">\n",
       "      <th></th>\n",
       "      <th>UserName</th>\n",
       "      <th>ScreenName</th>\n",
       "      <th>Location</th>\n",
       "      <th>TweetAt</th>\n",
       "      <th>OriginalTweet</th>\n",
       "      <th>Sentiment</th>\n",
       "      <th>newTweet</th>\n",
       "      <th>stemTweet</th>\n",
       "      <th>lemmaTweet</th>\n",
       "    </tr>\n",
       "  </thead>\n",
       "  <tbody>\n",
       "    <tr>\n",
       "      <th>0</th>\n",
       "      <td>3799</td>\n",
       "      <td>48751</td>\n",
       "      <td>London</td>\n",
       "      <td>16-03-2020</td>\n",
       "      <td>@MeNyrbie @Phil_Gahan @Chrisitv https://t.co/i...</td>\n",
       "      <td>Neutral</td>\n",
       "      <td></td>\n",
       "      <td></td>\n",
       "      <td></td>\n",
       "    </tr>\n",
       "    <tr>\n",
       "      <th>1</th>\n",
       "      <td>3800</td>\n",
       "      <td>48752</td>\n",
       "      <td>UK</td>\n",
       "      <td>16-03-2020</td>\n",
       "      <td>advice Talk to your neighbours family to excha...</td>\n",
       "      <td>Positive</td>\n",
       "      <td>advice talk neighbours family exchange phone n...</td>\n",
       "      <td>advic talk neighbour famili exchang phone numb...</td>\n",
       "      <td>advice talk neighbour family exchange phone nu...</td>\n",
       "    </tr>\n",
       "    <tr>\n",
       "      <th>2</th>\n",
       "      <td>3801</td>\n",
       "      <td>48753</td>\n",
       "      <td>Vagabonds</td>\n",
       "      <td>16-03-2020</td>\n",
       "      <td>Coronavirus Australia: Woolworths to give elde...</td>\n",
       "      <td>Positive</td>\n",
       "      <td>coronavirus australia woolworths give elderly ...</td>\n",
       "      <td>coronaviru australia woolworth give elderli di...</td>\n",
       "      <td>coronavirus australia woolworth give elderly d...</td>\n",
       "    </tr>\n",
       "    <tr>\n",
       "      <th>3</th>\n",
       "      <td>3802</td>\n",
       "      <td>48754</td>\n",
       "      <td>None</td>\n",
       "      <td>16-03-2020</td>\n",
       "      <td>My food stock is not the only one which is emp...</td>\n",
       "      <td>Positive</td>\n",
       "      <td>my food stock one empty please dont panic ther...</td>\n",
       "      <td>my food stock one empti pleas dont panic there...</td>\n",
       "      <td>my food stock one empty please dont panic ther...</td>\n",
       "    </tr>\n",
       "    <tr>\n",
       "      <th>4</th>\n",
       "      <td>3803</td>\n",
       "      <td>48755</td>\n",
       "      <td>None</td>\n",
       "      <td>16-03-2020</td>\n",
       "      <td>Me, ready to go at supermarket during the #COV...</td>\n",
       "      <td>Extremely Negative</td>\n",
       "      <td>me ready go supermarket covid outbreak not im ...</td>\n",
       "      <td>me readi go supermarket covid outbreak not im ...</td>\n",
       "      <td>me ready go supermarket covid outbreak not im ...</td>\n",
       "    </tr>\n",
       "  </tbody>\n",
       "</table>\n",
       "</div>"
      ],
      "text/plain": [
       "   UserName  ScreenName   Location     TweetAt  \\\n",
       "0      3799       48751     London  16-03-2020   \n",
       "1      3800       48752         UK  16-03-2020   \n",
       "2      3801       48753  Vagabonds  16-03-2020   \n",
       "3      3802       48754       None  16-03-2020   \n",
       "4      3803       48755       None  16-03-2020   \n",
       "\n",
       "                                       OriginalTweet           Sentiment  \\\n",
       "0  @MeNyrbie @Phil_Gahan @Chrisitv https://t.co/i...             Neutral   \n",
       "1  advice Talk to your neighbours family to excha...            Positive   \n",
       "2  Coronavirus Australia: Woolworths to give elde...            Positive   \n",
       "3  My food stock is not the only one which is emp...            Positive   \n",
       "4  Me, ready to go at supermarket during the #COV...  Extremely Negative   \n",
       "\n",
       "                                            newTweet  \\\n",
       "0                                                      \n",
       "1  advice talk neighbours family exchange phone n...   \n",
       "2  coronavirus australia woolworths give elderly ...   \n",
       "3  my food stock one empty please dont panic ther...   \n",
       "4  me ready go supermarket covid outbreak not im ...   \n",
       "\n",
       "                                           stemTweet  \\\n",
       "0                                                      \n",
       "1  advic talk neighbour famili exchang phone numb...   \n",
       "2  coronaviru australia woolworth give elderli di...   \n",
       "3  my food stock one empti pleas dont panic there...   \n",
       "4  me readi go supermarket covid outbreak not im ...   \n",
       "\n",
       "                                          lemmaTweet  \n",
       "0                                                     \n",
       "1  advice talk neighbour family exchange phone nu...  \n",
       "2  coronavirus australia woolworth give elderly d...  \n",
       "3  my food stock one empty please dont panic ther...  \n",
       "4  me ready go supermarket covid outbreak not im ...  "
      ]
     },
     "execution_count": 103,
     "metadata": {},
     "output_type": "execute_result"
    }
   ],
   "source": [
    "df.head()"
   ]
  },
  {
   "cell_type": "code",
   "execution_count": 104,
   "metadata": {},
   "outputs": [],
   "source": [
    "# Create more useful labels for classification.\n",
    "# We will take the original 5 possibilites and\n",
    "# reduce them to 3, removing the \"extremelys\".\n",
    "def make_label(sentiment):\n",
    "    \n",
    "    label = ''\n",
    "    if 'Positive' in sentiment: \n",
    "        label = 1\n",
    "    if 'Negative' in sentiment:\n",
    "        label = -1\n",
    "    if 'Neutral' in sentiment:\n",
    "        label = 0\n",
    "    return label"
   ]
  },
  {
   "cell_type": "code",
   "execution_count": 105,
   "metadata": {},
   "outputs": [
    {
     "name": "stdout",
     "output_type": "stream",
     "text": [
      "-1\n",
      "1\n",
      "0\n"
     ]
    }
   ],
   "source": [
    "# Sanity check\n",
    "print(make_label('Extremely Negative'))\n",
    "print(make_label('Extremely Positive'))\n",
    "print(make_label('Neutral'))"
   ]
  },
  {
   "cell_type": "code",
   "execution_count": 106,
   "metadata": {},
   "outputs": [
    {
     "data": {
      "text/html": [
       "<div>\n",
       "<style scoped>\n",
       "    .dataframe tbody tr th:only-of-type {\n",
       "        vertical-align: middle;\n",
       "    }\n",
       "\n",
       "    .dataframe tbody tr th {\n",
       "        vertical-align: top;\n",
       "    }\n",
       "\n",
       "    .dataframe thead th {\n",
       "        text-align: right;\n",
       "    }\n",
       "</style>\n",
       "<table border=\"1\" class=\"dataframe\">\n",
       "  <thead>\n",
       "    <tr style=\"text-align: right;\">\n",
       "      <th></th>\n",
       "      <th>UserName</th>\n",
       "      <th>ScreenName</th>\n",
       "      <th>Location</th>\n",
       "      <th>TweetAt</th>\n",
       "      <th>OriginalTweet</th>\n",
       "      <th>Sentiment</th>\n",
       "      <th>newTweet</th>\n",
       "      <th>stemTweet</th>\n",
       "      <th>lemmaTweet</th>\n",
       "      <th>label</th>\n",
       "    </tr>\n",
       "  </thead>\n",
       "  <tbody>\n",
       "    <tr>\n",
       "      <th>0</th>\n",
       "      <td>3799</td>\n",
       "      <td>48751</td>\n",
       "      <td>London</td>\n",
       "      <td>16-03-2020</td>\n",
       "      <td>@MeNyrbie @Phil_Gahan @Chrisitv https://t.co/i...</td>\n",
       "      <td>Neutral</td>\n",
       "      <td></td>\n",
       "      <td></td>\n",
       "      <td></td>\n",
       "      <td>0</td>\n",
       "    </tr>\n",
       "    <tr>\n",
       "      <th>1</th>\n",
       "      <td>3800</td>\n",
       "      <td>48752</td>\n",
       "      <td>UK</td>\n",
       "      <td>16-03-2020</td>\n",
       "      <td>advice Talk to your neighbours family to excha...</td>\n",
       "      <td>Positive</td>\n",
       "      <td>advice talk neighbours family exchange phone n...</td>\n",
       "      <td>advic talk neighbour famili exchang phone numb...</td>\n",
       "      <td>advice talk neighbour family exchange phone nu...</td>\n",
       "      <td>1</td>\n",
       "    </tr>\n",
       "    <tr>\n",
       "      <th>2</th>\n",
       "      <td>3801</td>\n",
       "      <td>48753</td>\n",
       "      <td>Vagabonds</td>\n",
       "      <td>16-03-2020</td>\n",
       "      <td>Coronavirus Australia: Woolworths to give elde...</td>\n",
       "      <td>Positive</td>\n",
       "      <td>coronavirus australia woolworths give elderly ...</td>\n",
       "      <td>coronaviru australia woolworth give elderli di...</td>\n",
       "      <td>coronavirus australia woolworth give elderly d...</td>\n",
       "      <td>1</td>\n",
       "    </tr>\n",
       "    <tr>\n",
       "      <th>3</th>\n",
       "      <td>3802</td>\n",
       "      <td>48754</td>\n",
       "      <td>None</td>\n",
       "      <td>16-03-2020</td>\n",
       "      <td>My food stock is not the only one which is emp...</td>\n",
       "      <td>Positive</td>\n",
       "      <td>my food stock one empty please dont panic ther...</td>\n",
       "      <td>my food stock one empti pleas dont panic there...</td>\n",
       "      <td>my food stock one empty please dont panic ther...</td>\n",
       "      <td>1</td>\n",
       "    </tr>\n",
       "    <tr>\n",
       "      <th>4</th>\n",
       "      <td>3803</td>\n",
       "      <td>48755</td>\n",
       "      <td>None</td>\n",
       "      <td>16-03-2020</td>\n",
       "      <td>Me, ready to go at supermarket during the #COV...</td>\n",
       "      <td>Extremely Negative</td>\n",
       "      <td>me ready go supermarket covid outbreak not im ...</td>\n",
       "      <td>me readi go supermarket covid outbreak not im ...</td>\n",
       "      <td>me ready go supermarket covid outbreak not im ...</td>\n",
       "      <td>-1</td>\n",
       "    </tr>\n",
       "  </tbody>\n",
       "</table>\n",
       "</div>"
      ],
      "text/plain": [
       "   UserName  ScreenName   Location     TweetAt  \\\n",
       "0      3799       48751     London  16-03-2020   \n",
       "1      3800       48752         UK  16-03-2020   \n",
       "2      3801       48753  Vagabonds  16-03-2020   \n",
       "3      3802       48754       None  16-03-2020   \n",
       "4      3803       48755       None  16-03-2020   \n",
       "\n",
       "                                       OriginalTweet           Sentiment  \\\n",
       "0  @MeNyrbie @Phil_Gahan @Chrisitv https://t.co/i...             Neutral   \n",
       "1  advice Talk to your neighbours family to excha...            Positive   \n",
       "2  Coronavirus Australia: Woolworths to give elde...            Positive   \n",
       "3  My food stock is not the only one which is emp...            Positive   \n",
       "4  Me, ready to go at supermarket during the #COV...  Extremely Negative   \n",
       "\n",
       "                                            newTweet  \\\n",
       "0                                                      \n",
       "1  advice talk neighbours family exchange phone n...   \n",
       "2  coronavirus australia woolworths give elderly ...   \n",
       "3  my food stock one empty please dont panic ther...   \n",
       "4  me ready go supermarket covid outbreak not im ...   \n",
       "\n",
       "                                           stemTweet  \\\n",
       "0                                                      \n",
       "1  advic talk neighbour famili exchang phone numb...   \n",
       "2  coronaviru australia woolworth give elderli di...   \n",
       "3  my food stock one empti pleas dont panic there...   \n",
       "4  me readi go supermarket covid outbreak not im ...   \n",
       "\n",
       "                                          lemmaTweet  label  \n",
       "0                                                         0  \n",
       "1  advice talk neighbour family exchange phone nu...      1  \n",
       "2  coronavirus australia woolworth give elderly d...      1  \n",
       "3  my food stock one empty please dont panic ther...      1  \n",
       "4  me ready go supermarket covid outbreak not im ...     -1  "
      ]
     },
     "execution_count": 106,
     "metadata": {},
     "output_type": "execute_result"
    }
   ],
   "source": [
    "# Apply make_label funtion to training and test dataframes.\n",
    "df['label'] = df['Sentiment'].apply(lambda x: make_label(x))\n",
    "test_df['label'] = test_df['Sentiment'].apply(lambda x: make_label(x))\n",
    "df.head()"
   ]
  },
  {
   "cell_type": "markdown",
   "metadata": {},
   "source": [
    "### 2a) Location Cleaning"
   ]
  },
  {
   "cell_type": "code",
   "execution_count": 107,
   "metadata": {},
   "outputs": [
    {
     "data": {
      "text/plain": [
       "None                             8590\n",
       "London                            540\n",
       "United States                     528\n",
       "London, England                   520\n",
       "New York, NY                      395\n",
       "                                 ... \n",
       "C/O Perplexed & Bewildered          1\n",
       "Owen Sound, Ontario                 1\n",
       "Texas Conservativ CyberCowboy       1\n",
       "Coast Salish Territories            1\n",
       "England, soon Scotland ??           1\n",
       "Name: Location, Length: 12221, dtype: int64"
      ]
     },
     "execution_count": 107,
     "metadata": {},
     "output_type": "execute_result"
    }
   ],
   "source": [
    "# Value counts for general idea of location data\n",
    "df['Location'].value_counts()"
   ]
  },
  {
   "cell_type": "code",
   "execution_count": 186,
   "metadata": {},
   "outputs": [],
   "source": [
    "# Some frequent US locations\n",
    "us_filters = ('New York', 'New York, NY', 'NYC', 'NY', 'Washington, DC', 'Los Angeles, CA',\n",
    "             'Seattle, Washington', 'Chicago', 'Chicago, IL', 'California, USA', 'Atlanta, GA',\n",
    "             'San Francisco, CA', 'Boston, MA', 'New York, USA', 'Texas, USA', 'Austin, TX',\n",
    "              'Houston, TX', 'New York City', 'Philadelphia, PA', 'Florida, USA', 'Seattle, WA',\n",
    "             'Washington, D.C.', 'San Diego, CA', 'Las Vegas, NV', 'Dallas, TX', 'Denver, CO',\n",
    "             'New Jersey, USA', 'Brooklyn, NY', 'California', 'Michigan, USA', 'Minneapolis, MN',\n",
    "             'Virginia, USA', 'Miami, FL', 'Texas', 'Los Angeles', 'United States', 'San Francisco',\n",
    "             'Indianapolis, IN', 'Pennsylvania, USA', 'Phoenix, AZ', 'New Jersey', 'Baltimore, MD',\n",
    "             'CA', 'FL', 'DC', 'TX', 'IL', 'MA', 'PA', 'GA', 'NC', 'NJ', 'WA', 'VA', 'PAK', 'MI', 'OH',\n",
    "             'CO')"
   ]
  },
  {
   "cell_type": "code",
   "execution_count": 187,
   "metadata": {},
   "outputs": [],
   "source": [
    "# Various nation's frequent locations\n",
    "uk_filters = ('England', 'London', 'london', 'United Kingdom', 'united kingdom',\n",
    "              'England, United Kingdom', 'London, UK', 'London, England',\n",
    "              'Manchester, England', 'Scotland, UK', 'Scotland', 'Scotland, United Kingdom',\n",
    "              'Birmingham, England', 'UK')\n",
    "india_filters = ('New Delhi, India', 'Mumbai', 'Mumbai, India', 'New Delhi', 'India', \n",
    "                 'Bengaluru, India')\n",
    "australia_filters = ('Sydney, Australia', 'New South Wales', 'Melbourne, Australia', 'Sydney',\n",
    "                     'Sydney, New South Wales', 'Melbourne, Victoria', 'Melbourne', 'Australia')\n",
    "canada_filters = ('Toronto, Ontario', 'Toronto', 'Ontario, Canada', 'Toronto, Canada', 'Canada',\n",
    "                  'Vancouver, British Columbia', 'Ontario')\n",
    "south_africa_filters = ('Johannesburg, South Africa', 'Cape Town, South Africa', 'South Africa')\n",
    "nigeria_filters = ('Lagos, Nigeria')\n",
    "kenya_filters = ('Nairobi, Kenya')\n",
    "france_filters = ('Paris, France')\n",
    "ireland_filters = ('Ireland')\n",
    "new_zealand_filters = ('New Zealand')\n",
    "pakistan_filters = ('Pakistan')\n",
    "malaysia_filters = ('Malaysia')\n",
    "uganda_filters = ('Kampala, Uganda', 'Uganda')\n",
    "singapore_filters = ('Singapore')\n",
    "# These all have large counts. Need to be removed from rest of data\n",
    "other_filters = ('None', 'Worldwide', 'Global', 'Earth', '??')"
   ]
  },
  {
   "cell_type": "code",
   "execution_count": 188,
   "metadata": {},
   "outputs": [],
   "source": [
    "# Changing strings found with filters into 3 digit codes\n",
    "df['newLoc'] = df['Location'].apply(lambda x: 'USA' if x in us_filters else x)\n",
    "df['newLoc'] = df['newLoc'].apply(lambda x: 'GBR' if x in uk_filters else x)\n",
    "df['newLoc'] = df['newLoc'].apply(lambda x: 'IND' if x in india_filters else x)\n",
    "df['newLoc'] = df['newLoc'].apply(lambda x: 'AUS' if x in australia_filters else x)\n",
    "df['newLoc'] = df['newLoc'].apply(lambda x: 'CAN' if x in canada_filters else x)\n",
    "df['newLoc'] = df['newLoc'].apply(lambda x: 'ZAF' if x in south_africa_filters else x)\n",
    "df['newLoc'] = df['newLoc'].apply(lambda x: 'KEN' if x in kenya_filters else x)\n",
    "df['newLoc'] = df['newLoc'].apply(lambda x: 'NGA' if x in nigeria_filters else x)\n",
    "df['newLoc'] = df['newLoc'].apply(lambda x: 'SGP' if x in singapore_filters else x)\n",
    "df['newLoc'] = df['newLoc'].apply(lambda x: 'FRA' if x in france_filters else x)\n",
    "df['newLoc'] = df['newLoc'].apply(lambda x: 'NZL' if x in new_zealand_filters else x)\n",
    "df['newLoc'] = df['newLoc'].apply(lambda x: 'PAK' if x in pakistan_filters else x)\n",
    "df['newLoc'] = df['newLoc'].apply(lambda x: 'MYS' if x in malaysia_filters else x)\n",
    "df['newLoc'] = df['newLoc'].apply(lambda x: 'IRL' if x in ireland_filters else x)\n",
    "df['newLoc'] = df['newLoc'].apply(lambda x: 'UGA' if x in uganda_filters else x)\n",
    "df['newLoc'] = df['newLoc'].apply(lambda x: 'None' if x in other_filters else x)"
   ]
  },
  {
   "cell_type": "code",
   "execution_count": 189,
   "metadata": {},
   "outputs": [
    {
     "data": {
      "text/plain": [
       "None                   8969\n",
       "USA                    4697\n",
       "GBR                    2181\n",
       "IND                     683\n",
       "CAN                     600\n",
       "AUS                     584\n",
       "NGA                     212\n",
       "ZAF                     178\n",
       "KEN                     144\n",
       "FRA                     101\n",
       "SGP                      87\n",
       "NZL                      75\n",
       "IRL                      61\n",
       "UGA                      58\n",
       "MYS                      50\n",
       "PAK                      45\n",
       "North Carolina, USA      41\n",
       "Hong Kong                40\n",
       "Portland, OR             40\n",
       "Pittsburgh, PA           40\n",
       "Name: newLoc, dtype: int64"
      ]
     },
     "execution_count": 189,
     "metadata": {},
     "output_type": "execute_result"
    }
   ],
   "source": [
    "# View results\n",
    "df['newLoc'].value_counts()[0:20]"
   ]
  },
  {
   "cell_type": "markdown",
   "metadata": {},
   "source": [
    "Further cleaning can obviously be done here, but this has captured most of the 'easy to grab' data. In the interest of my time and sanity, this is fine."
   ]
  },
  {
   "cell_type": "code",
   "execution_count": 190,
   "metadata": {},
   "outputs": [],
   "source": [
    "df['country'] = df.Location.apply(lambda x: x.split(\",\")[-1].strip() if (\",\" in x) else x)"
   ]
  },
  {
   "cell_type": "code",
   "execution_count": 191,
   "metadata": {},
   "outputs": [
    {
     "data": {
      "text/plain": [
       "None                        8590\n",
       "USA                         1721\n",
       "England                     1547\n",
       "CA                          1084\n",
       "India                        963\n",
       "                            ... \n",
       "USA/India                      1\n",
       "Super-yacht on St. Barts       1\n",
       "England - UK                   1\n",
       "Paraguay??                     1\n",
       "NE (Headquarters)              1\n",
       "Name: country, Length: 7404, dtype: int64"
      ]
     },
     "execution_count": 191,
     "metadata": {},
     "output_type": "execute_result"
    }
   ],
   "source": [
    "df['country'].value_counts()"
   ]
  },
  {
   "cell_type": "code",
   "execution_count": 192,
   "metadata": {},
   "outputs": [
    {
     "data": {
      "text/html": [
       "<div>\n",
       "<style scoped>\n",
       "    .dataframe tbody tr th:only-of-type {\n",
       "        vertical-align: middle;\n",
       "    }\n",
       "\n",
       "    .dataframe tbody tr th {\n",
       "        vertical-align: top;\n",
       "    }\n",
       "\n",
       "    .dataframe thead th {\n",
       "        text-align: right;\n",
       "    }\n",
       "</style>\n",
       "<table border=\"1\" class=\"dataframe\">\n",
       "  <thead>\n",
       "    <tr style=\"text-align: right;\">\n",
       "      <th></th>\n",
       "      <th>UserName</th>\n",
       "      <th>ScreenName</th>\n",
       "      <th>Location</th>\n",
       "      <th>TweetAt</th>\n",
       "      <th>OriginalTweet</th>\n",
       "      <th>Sentiment</th>\n",
       "      <th>newTweet</th>\n",
       "      <th>stemTweet</th>\n",
       "      <th>lemmaTweet</th>\n",
       "      <th>label</th>\n",
       "      <th>newLoc</th>\n",
       "      <th>country</th>\n",
       "    </tr>\n",
       "  </thead>\n",
       "  <tbody>\n",
       "    <tr>\n",
       "      <th>0</th>\n",
       "      <td>3799</td>\n",
       "      <td>48751</td>\n",
       "      <td>London</td>\n",
       "      <td>16-03-2020</td>\n",
       "      <td>@MeNyrbie @Phil_Gahan @Chrisitv https://t.co/i...</td>\n",
       "      <td>Neutral</td>\n",
       "      <td></td>\n",
       "      <td></td>\n",
       "      <td></td>\n",
       "      <td>0</td>\n",
       "      <td>GBR</td>\n",
       "      <td>London</td>\n",
       "    </tr>\n",
       "    <tr>\n",
       "      <th>1</th>\n",
       "      <td>3800</td>\n",
       "      <td>48752</td>\n",
       "      <td>UK</td>\n",
       "      <td>16-03-2020</td>\n",
       "      <td>advice Talk to your neighbours family to excha...</td>\n",
       "      <td>Positive</td>\n",
       "      <td>advice talk neighbours family exchange phone n...</td>\n",
       "      <td>advic talk neighbour famili exchang phone numb...</td>\n",
       "      <td>advice talk neighbour family exchange phone nu...</td>\n",
       "      <td>1</td>\n",
       "      <td>GBR</td>\n",
       "      <td>UK</td>\n",
       "    </tr>\n",
       "    <tr>\n",
       "      <th>2</th>\n",
       "      <td>3801</td>\n",
       "      <td>48753</td>\n",
       "      <td>Vagabonds</td>\n",
       "      <td>16-03-2020</td>\n",
       "      <td>Coronavirus Australia: Woolworths to give elde...</td>\n",
       "      <td>Positive</td>\n",
       "      <td>coronavirus australia woolworths give elderly ...</td>\n",
       "      <td>coronaviru australia woolworth give elderli di...</td>\n",
       "      <td>coronavirus australia woolworth give elderly d...</td>\n",
       "      <td>1</td>\n",
       "      <td>Vagabonds</td>\n",
       "      <td>Vagabonds</td>\n",
       "    </tr>\n",
       "    <tr>\n",
       "      <th>3</th>\n",
       "      <td>3802</td>\n",
       "      <td>48754</td>\n",
       "      <td>None</td>\n",
       "      <td>16-03-2020</td>\n",
       "      <td>My food stock is not the only one which is emp...</td>\n",
       "      <td>Positive</td>\n",
       "      <td>my food stock one empty please dont panic ther...</td>\n",
       "      <td>my food stock one empti pleas dont panic there...</td>\n",
       "      <td>my food stock one empty please dont panic ther...</td>\n",
       "      <td>1</td>\n",
       "      <td>None</td>\n",
       "      <td>None</td>\n",
       "    </tr>\n",
       "    <tr>\n",
       "      <th>4</th>\n",
       "      <td>3803</td>\n",
       "      <td>48755</td>\n",
       "      <td>None</td>\n",
       "      <td>16-03-2020</td>\n",
       "      <td>Me, ready to go at supermarket during the #COV...</td>\n",
       "      <td>Extremely Negative</td>\n",
       "      <td>me ready go supermarket covid outbreak not im ...</td>\n",
       "      <td>me readi go supermarket covid outbreak not im ...</td>\n",
       "      <td>me ready go supermarket covid outbreak not im ...</td>\n",
       "      <td>-1</td>\n",
       "      <td>None</td>\n",
       "      <td>None</td>\n",
       "    </tr>\n",
       "  </tbody>\n",
       "</table>\n",
       "</div>"
      ],
      "text/plain": [
       "   UserName  ScreenName   Location     TweetAt  \\\n",
       "0      3799       48751     London  16-03-2020   \n",
       "1      3800       48752         UK  16-03-2020   \n",
       "2      3801       48753  Vagabonds  16-03-2020   \n",
       "3      3802       48754       None  16-03-2020   \n",
       "4      3803       48755       None  16-03-2020   \n",
       "\n",
       "                                       OriginalTweet           Sentiment  \\\n",
       "0  @MeNyrbie @Phil_Gahan @Chrisitv https://t.co/i...             Neutral   \n",
       "1  advice Talk to your neighbours family to excha...            Positive   \n",
       "2  Coronavirus Australia: Woolworths to give elde...            Positive   \n",
       "3  My food stock is not the only one which is emp...            Positive   \n",
       "4  Me, ready to go at supermarket during the #COV...  Extremely Negative   \n",
       "\n",
       "                                            newTweet  \\\n",
       "0                                                      \n",
       "1  advice talk neighbours family exchange phone n...   \n",
       "2  coronavirus australia woolworths give elderly ...   \n",
       "3  my food stock one empty please dont panic ther...   \n",
       "4  me ready go supermarket covid outbreak not im ...   \n",
       "\n",
       "                                           stemTweet  \\\n",
       "0                                                      \n",
       "1  advic talk neighbour famili exchang phone numb...   \n",
       "2  coronaviru australia woolworth give elderli di...   \n",
       "3  my food stock one empti pleas dont panic there...   \n",
       "4  me readi go supermarket covid outbreak not im ...   \n",
       "\n",
       "                                          lemmaTweet  label     newLoc  \\\n",
       "0                                                         0        GBR   \n",
       "1  advice talk neighbour family exchange phone nu...      1        GBR   \n",
       "2  coronavirus australia woolworth give elderly d...      1  Vagabonds   \n",
       "3  my food stock one empty please dont panic ther...      1       None   \n",
       "4  me ready go supermarket covid outbreak not im ...     -1       None   \n",
       "\n",
       "     country  \n",
       "0     London  \n",
       "1         UK  \n",
       "2  Vagabonds  \n",
       "3       None  \n",
       "4       None  "
      ]
     },
     "execution_count": 192,
     "metadata": {},
     "output_type": "execute_result"
    }
   ],
   "source": [
    "df.head()"
   ]
  },
  {
   "cell_type": "code",
   "execution_count": 193,
   "metadata": {},
   "outputs": [],
   "source": [
    "# Changing strings found with filters into 3 digit codes\n",
    "df['country'] = df['country'].apply(lambda x: 'USA' if x in us_filters else x)\n",
    "df['country'] = df['country'].apply(lambda x: 'GBR' if x in uk_filters else x)\n",
    "df['country'] = df['country'].apply(lambda x: 'IND' if x in india_filters else x)\n",
    "df['country'] = df['country'].apply(lambda x: 'AUS' if x in australia_filters else x)\n",
    "df['country'] = df['country'].apply(lambda x: 'CAN' if x in canada_filters else x)\n",
    "df['country'] = df['country'].apply(lambda x: 'ZAF' if x in south_africa_filters else x)\n",
    "df['country'] = df['country'].apply(lambda x: 'KEN' if x in kenya_filters else x)\n",
    "df['country'] = df['country'].apply(lambda x: 'NGA' if x in nigeria_filters else x)\n",
    "df['country'] = df['country'].apply(lambda x: 'SGP' if x in singapore_filters else x)\n",
    "df['country'] = df['country'].apply(lambda x: 'FRA' if x in france_filters else x)\n",
    "df['country'] = df['country'].apply(lambda x: 'NZL' if x in new_zealand_filters else x)\n",
    "df['country'] = df['country'].apply(lambda x: 'PAK' if x in pakistan_filters else x)\n",
    "df['country'] = df['country'].apply(lambda x: 'MYS' if x in malaysia_filters else x)\n",
    "df['country'] = df['country'].apply(lambda x: 'IRL' if x in ireland_filters else x)\n",
    "df['country'] = df['country'].apply(lambda x: 'UGA' if x in uganda_filters else x)\n",
    "df['country'] = df['country'].apply(lambda x: 'None' if x in other_filters else x)"
   ]
  },
  {
   "cell_type": "code",
   "execution_count": 194,
   "metadata": {},
   "outputs": [
    {
     "data": {
      "text/plain": [
       "'USA'"
      ]
     },
     "execution_count": 194,
     "metadata": {},
     "output_type": "execute_result"
    }
   ],
   "source": [
    "x = 'North Carolina, USA'\n",
    "x.split(\",\")[-1].strip() if (\",\" in x) else x"
   ]
  },
  {
   "cell_type": "code",
   "execution_count": 195,
   "metadata": {},
   "outputs": [
    {
     "data": {
      "text/plain": [
       "None                8980\n",
       "USA                 8094\n",
       "GBR                 3739\n",
       "IND                 1097\n",
       "CAN                 1000\n",
       "AUS                  678\n",
       "NGA                  321\n",
       "ZAF                  255\n",
       "KEN                  179\n",
       "IRL                  173\n",
       "NZL                  165\n",
       "PAK                  138\n",
       "FRA                  132\n",
       "AZ                   110\n",
       "MD                   109\n",
       "Florida              105\n",
       "MO                   103\n",
       "TN                   103\n",
       "Germany               97\n",
       "SGP                   92\n",
       "D.C.                  83\n",
       "WI                    83\n",
       "Ohio                  82\n",
       "NV                    82\n",
       "Victoria              81\n",
       "IN                    80\n",
       "British Columbia      79\n",
       "MN                    79\n",
       "MYS                   76\n",
       "OR                    74\n",
       "Name: country, dtype: int64"
      ]
     },
     "execution_count": 195,
     "metadata": {},
     "output_type": "execute_result"
    }
   ],
   "source": [
    "df['country'].value_counts()[0:30]"
   ]
  },
  {
   "cell_type": "code",
   "execution_count": 161,
   "metadata": {},
   "outputs": [],
   "source": [
    "y = [1,2,3,5,8]"
   ]
  },
  {
   "cell_type": "code",
   "execution_count": null,
   "metadata": {},
   "outputs": [],
   "source": []
  },
  {
   "cell_type": "code",
   "execution_count": null,
   "metadata": {},
   "outputs": [],
   "source": []
  },
  {
   "cell_type": "code",
   "execution_count": 112,
   "metadata": {},
   "outputs": [],
   "source": [
    "# 0:17 because that's where the labeled countries end\n",
    "places_df = pd.DataFrame(df['newLoc'].value_counts()[0:17])\n",
    "places_df.reset_index(inplace = True)\n",
    "places_df.rename(columns = {'index':'Country', 'newLoc':'Tweets'}, inplace = True)\n",
    "# Remove 'None' location\n",
    "places_df = places_df[places_df['Country'] != 'None']"
   ]
  },
  {
   "cell_type": "markdown",
   "metadata": {},
   "source": [
    "Plotly visualization of tweets...not all too useful. My guess is that this data was pulled mainly from English speaking countries, as that's where the majority of tweets come from.  Also, considering the data was manually labeled, they probably stuck to only English tweets."
   ]
  },
  {
   "cell_type": "markdown",
   "metadata": {},
   "source": [
    "fig = go.Figure(data=go.Choropleth(\n",
    "    locations = places_df['Country'],\n",
    "    z = places_df['Tweets'],\n",
    "    text = places_df['Country'],\n",
    "    #colorscale = 'Greens',\n",
    "    autocolorscale=True,\n",
    "    reversescale=True,\n",
    "    marker_line_color='darkgray',\n",
    "    marker_line_width=0.5,\n",
    "    #colorbar_tickprefix = '$',\n",
    "    colorbar_title = 'Number of Tweets',\n",
    "))\n",
    "fig.update_layout(\n",
    "    title_text='Coronavirus Tweets',\n",
    "    geo=dict(\n",
    "        showframe=False,\n",
    "        showcoastlines=False,\n",
    "        projection_type='equirectangular'\n",
    "    ),\n",
    ")\n",
    "\n",
    "fig.show()"
   ]
  },
  {
   "cell_type": "code",
   "execution_count": 113,
   "metadata": {},
   "outputs": [],
   "source": [
    "data = dict(type='choropleth',\n",
    "            colorscale = 'inferno',\n",
    "            locations = places_df['Country'],\n",
    "            z = places_df['Tweets'],\n",
    "            #locationmode = 'USA-states',\n",
    "            text = places_df['Tweets'],\n",
    "            marker = dict(line = dict(color = 'rgb(255,255,255)',width = 2)),\n",
    "            colorbar = {'title':\"Number of Tweets\"}\n",
    "            ) \n",
    "\n",
    "layout = dict(title = 'Number of Tweets By Country',\n",
    "              geo = dict(#scope='usa',\n",
    "                         showlakes = False,\n",
    "                         lakecolor = 'rgb(85,173,240)',\n",
    "                         projection_type='equirectangular')\n",
    "             )\n",
    "\n",
    "choromap = go.Figure(data = [data],layout = layout)"
   ]
  },
  {
   "cell_type": "code",
   "execution_count": 114,
   "metadata": {},
   "outputs": [
    {
     "data": {
      "application/vnd.plotly.v1+json": {
       "config": {
        "linkText": "Export to plot.ly",
        "plotlyServerURL": "https://plot.ly",
        "showLink": false
       },
       "data": [
        {
         "colorbar": {
          "title": {
           "text": "Number of Tweets"
          }
         },
         "colorscale": [
          [
           0,
           "#000004"
          ],
          [
           0.1111111111111111,
           "#1b0c41"
          ],
          [
           0.2222222222222222,
           "#4a0c6b"
          ],
          [
           0.3333333333333333,
           "#781c6d"
          ],
          [
           0.4444444444444444,
           "#a52c60"
          ],
          [
           0.5555555555555556,
           "#cf4446"
          ],
          [
           0.6666666666666666,
           "#ed6925"
          ],
          [
           0.7777777777777778,
           "#fb9b06"
          ],
          [
           0.8888888888888888,
           "#f7d13d"
          ],
          [
           1,
           "#fcffa4"
          ]
         ],
         "locations": [
          "USA",
          "GBR",
          "IND",
          "CAN",
          "AUS",
          "UK",
          "NGA",
          "ZAF",
          "KEN",
          "FRA",
          "SGP",
          "NZL",
          "IRL",
          "UGA",
          "MYS",
          "PAK"
         ],
         "marker": {
          "line": {
           "color": "rgb(255,255,255)",
           "width": 2
          }
         },
         "text": [
          4617,
          1949,
          683,
          588,
          584,
          232,
          212,
          178,
          144,
          101,
          87,
          75,
          61,
          58,
          50,
          45
         ],
         "type": "choropleth",
         "z": [
          4617,
          1949,
          683,
          588,
          584,
          232,
          212,
          178,
          144,
          101,
          87,
          75,
          61,
          58,
          50,
          45
         ]
        }
       ],
       "layout": {
        "geo": {
         "lakecolor": "rgb(85,173,240)",
         "projection": {
          "type": "equirectangular"
         },
         "showlakes": false
        },
        "template": {
         "data": {
          "bar": [
           {
            "error_x": {
             "color": "#2a3f5f"
            },
            "error_y": {
             "color": "#2a3f5f"
            },
            "marker": {
             "line": {
              "color": "#E5ECF6",
              "width": 0.5
             }
            },
            "type": "bar"
           }
          ],
          "barpolar": [
           {
            "marker": {
             "line": {
              "color": "#E5ECF6",
              "width": 0.5
             }
            },
            "type": "barpolar"
           }
          ],
          "carpet": [
           {
            "aaxis": {
             "endlinecolor": "#2a3f5f",
             "gridcolor": "white",
             "linecolor": "white",
             "minorgridcolor": "white",
             "startlinecolor": "#2a3f5f"
            },
            "baxis": {
             "endlinecolor": "#2a3f5f",
             "gridcolor": "white",
             "linecolor": "white",
             "minorgridcolor": "white",
             "startlinecolor": "#2a3f5f"
            },
            "type": "carpet"
           }
          ],
          "choropleth": [
           {
            "colorbar": {
             "outlinewidth": 0,
             "ticks": ""
            },
            "type": "choropleth"
           }
          ],
          "contour": [
           {
            "colorbar": {
             "outlinewidth": 0,
             "ticks": ""
            },
            "colorscale": [
             [
              0,
              "#0d0887"
             ],
             [
              0.1111111111111111,
              "#46039f"
             ],
             [
              0.2222222222222222,
              "#7201a8"
             ],
             [
              0.3333333333333333,
              "#9c179e"
             ],
             [
              0.4444444444444444,
              "#bd3786"
             ],
             [
              0.5555555555555556,
              "#d8576b"
             ],
             [
              0.6666666666666666,
              "#ed7953"
             ],
             [
              0.7777777777777778,
              "#fb9f3a"
             ],
             [
              0.8888888888888888,
              "#fdca26"
             ],
             [
              1,
              "#f0f921"
             ]
            ],
            "type": "contour"
           }
          ],
          "contourcarpet": [
           {
            "colorbar": {
             "outlinewidth": 0,
             "ticks": ""
            },
            "type": "contourcarpet"
           }
          ],
          "heatmap": [
           {
            "colorbar": {
             "outlinewidth": 0,
             "ticks": ""
            },
            "colorscale": [
             [
              0,
              "#0d0887"
             ],
             [
              0.1111111111111111,
              "#46039f"
             ],
             [
              0.2222222222222222,
              "#7201a8"
             ],
             [
              0.3333333333333333,
              "#9c179e"
             ],
             [
              0.4444444444444444,
              "#bd3786"
             ],
             [
              0.5555555555555556,
              "#d8576b"
             ],
             [
              0.6666666666666666,
              "#ed7953"
             ],
             [
              0.7777777777777778,
              "#fb9f3a"
             ],
             [
              0.8888888888888888,
              "#fdca26"
             ],
             [
              1,
              "#f0f921"
             ]
            ],
            "type": "heatmap"
           }
          ],
          "heatmapgl": [
           {
            "colorbar": {
             "outlinewidth": 0,
             "ticks": ""
            },
            "colorscale": [
             [
              0,
              "#0d0887"
             ],
             [
              0.1111111111111111,
              "#46039f"
             ],
             [
              0.2222222222222222,
              "#7201a8"
             ],
             [
              0.3333333333333333,
              "#9c179e"
             ],
             [
              0.4444444444444444,
              "#bd3786"
             ],
             [
              0.5555555555555556,
              "#d8576b"
             ],
             [
              0.6666666666666666,
              "#ed7953"
             ],
             [
              0.7777777777777778,
              "#fb9f3a"
             ],
             [
              0.8888888888888888,
              "#fdca26"
             ],
             [
              1,
              "#f0f921"
             ]
            ],
            "type": "heatmapgl"
           }
          ],
          "histogram": [
           {
            "marker": {
             "colorbar": {
              "outlinewidth": 0,
              "ticks": ""
             }
            },
            "type": "histogram"
           }
          ],
          "histogram2d": [
           {
            "colorbar": {
             "outlinewidth": 0,
             "ticks": ""
            },
            "colorscale": [
             [
              0,
              "#0d0887"
             ],
             [
              0.1111111111111111,
              "#46039f"
             ],
             [
              0.2222222222222222,
              "#7201a8"
             ],
             [
              0.3333333333333333,
              "#9c179e"
             ],
             [
              0.4444444444444444,
              "#bd3786"
             ],
             [
              0.5555555555555556,
              "#d8576b"
             ],
             [
              0.6666666666666666,
              "#ed7953"
             ],
             [
              0.7777777777777778,
              "#fb9f3a"
             ],
             [
              0.8888888888888888,
              "#fdca26"
             ],
             [
              1,
              "#f0f921"
             ]
            ],
            "type": "histogram2d"
           }
          ],
          "histogram2dcontour": [
           {
            "colorbar": {
             "outlinewidth": 0,
             "ticks": ""
            },
            "colorscale": [
             [
              0,
              "#0d0887"
             ],
             [
              0.1111111111111111,
              "#46039f"
             ],
             [
              0.2222222222222222,
              "#7201a8"
             ],
             [
              0.3333333333333333,
              "#9c179e"
             ],
             [
              0.4444444444444444,
              "#bd3786"
             ],
             [
              0.5555555555555556,
              "#d8576b"
             ],
             [
              0.6666666666666666,
              "#ed7953"
             ],
             [
              0.7777777777777778,
              "#fb9f3a"
             ],
             [
              0.8888888888888888,
              "#fdca26"
             ],
             [
              1,
              "#f0f921"
             ]
            ],
            "type": "histogram2dcontour"
           }
          ],
          "mesh3d": [
           {
            "colorbar": {
             "outlinewidth": 0,
             "ticks": ""
            },
            "type": "mesh3d"
           }
          ],
          "parcoords": [
           {
            "line": {
             "colorbar": {
              "outlinewidth": 0,
              "ticks": ""
             }
            },
            "type": "parcoords"
           }
          ],
          "pie": [
           {
            "automargin": true,
            "type": "pie"
           }
          ],
          "scatter": [
           {
            "marker": {
             "colorbar": {
              "outlinewidth": 0,
              "ticks": ""
             }
            },
            "type": "scatter"
           }
          ],
          "scatter3d": [
           {
            "line": {
             "colorbar": {
              "outlinewidth": 0,
              "ticks": ""
             }
            },
            "marker": {
             "colorbar": {
              "outlinewidth": 0,
              "ticks": ""
             }
            },
            "type": "scatter3d"
           }
          ],
          "scattercarpet": [
           {
            "marker": {
             "colorbar": {
              "outlinewidth": 0,
              "ticks": ""
             }
            },
            "type": "scattercarpet"
           }
          ],
          "scattergeo": [
           {
            "marker": {
             "colorbar": {
              "outlinewidth": 0,
              "ticks": ""
             }
            },
            "type": "scattergeo"
           }
          ],
          "scattergl": [
           {
            "marker": {
             "colorbar": {
              "outlinewidth": 0,
              "ticks": ""
             }
            },
            "type": "scattergl"
           }
          ],
          "scattermapbox": [
           {
            "marker": {
             "colorbar": {
              "outlinewidth": 0,
              "ticks": ""
             }
            },
            "type": "scattermapbox"
           }
          ],
          "scatterpolar": [
           {
            "marker": {
             "colorbar": {
              "outlinewidth": 0,
              "ticks": ""
             }
            },
            "type": "scatterpolar"
           }
          ],
          "scatterpolargl": [
           {
            "marker": {
             "colorbar": {
              "outlinewidth": 0,
              "ticks": ""
             }
            },
            "type": "scatterpolargl"
           }
          ],
          "scatterternary": [
           {
            "marker": {
             "colorbar": {
              "outlinewidth": 0,
              "ticks": ""
             }
            },
            "type": "scatterternary"
           }
          ],
          "surface": [
           {
            "colorbar": {
             "outlinewidth": 0,
             "ticks": ""
            },
            "colorscale": [
             [
              0,
              "#0d0887"
             ],
             [
              0.1111111111111111,
              "#46039f"
             ],
             [
              0.2222222222222222,
              "#7201a8"
             ],
             [
              0.3333333333333333,
              "#9c179e"
             ],
             [
              0.4444444444444444,
              "#bd3786"
             ],
             [
              0.5555555555555556,
              "#d8576b"
             ],
             [
              0.6666666666666666,
              "#ed7953"
             ],
             [
              0.7777777777777778,
              "#fb9f3a"
             ],
             [
              0.8888888888888888,
              "#fdca26"
             ],
             [
              1,
              "#f0f921"
             ]
            ],
            "type": "surface"
           }
          ],
          "table": [
           {
            "cells": {
             "fill": {
              "color": "#EBF0F8"
             },
             "line": {
              "color": "white"
             }
            },
            "header": {
             "fill": {
              "color": "#C8D4E3"
             },
             "line": {
              "color": "white"
             }
            },
            "type": "table"
           }
          ]
         },
         "layout": {
          "annotationdefaults": {
           "arrowcolor": "#2a3f5f",
           "arrowhead": 0,
           "arrowwidth": 1
          },
          "coloraxis": {
           "colorbar": {
            "outlinewidth": 0,
            "ticks": ""
           }
          },
          "colorscale": {
           "diverging": [
            [
             0,
             "#8e0152"
            ],
            [
             0.1,
             "#c51b7d"
            ],
            [
             0.2,
             "#de77ae"
            ],
            [
             0.3,
             "#f1b6da"
            ],
            [
             0.4,
             "#fde0ef"
            ],
            [
             0.5,
             "#f7f7f7"
            ],
            [
             0.6,
             "#e6f5d0"
            ],
            [
             0.7,
             "#b8e186"
            ],
            [
             0.8,
             "#7fbc41"
            ],
            [
             0.9,
             "#4d9221"
            ],
            [
             1,
             "#276419"
            ]
           ],
           "sequential": [
            [
             0,
             "#0d0887"
            ],
            [
             0.1111111111111111,
             "#46039f"
            ],
            [
             0.2222222222222222,
             "#7201a8"
            ],
            [
             0.3333333333333333,
             "#9c179e"
            ],
            [
             0.4444444444444444,
             "#bd3786"
            ],
            [
             0.5555555555555556,
             "#d8576b"
            ],
            [
             0.6666666666666666,
             "#ed7953"
            ],
            [
             0.7777777777777778,
             "#fb9f3a"
            ],
            [
             0.8888888888888888,
             "#fdca26"
            ],
            [
             1,
             "#f0f921"
            ]
           ],
           "sequentialminus": [
            [
             0,
             "#0d0887"
            ],
            [
             0.1111111111111111,
             "#46039f"
            ],
            [
             0.2222222222222222,
             "#7201a8"
            ],
            [
             0.3333333333333333,
             "#9c179e"
            ],
            [
             0.4444444444444444,
             "#bd3786"
            ],
            [
             0.5555555555555556,
             "#d8576b"
            ],
            [
             0.6666666666666666,
             "#ed7953"
            ],
            [
             0.7777777777777778,
             "#fb9f3a"
            ],
            [
             0.8888888888888888,
             "#fdca26"
            ],
            [
             1,
             "#f0f921"
            ]
           ]
          },
          "colorway": [
           "#636efa",
           "#EF553B",
           "#00cc96",
           "#ab63fa",
           "#FFA15A",
           "#19d3f3",
           "#FF6692",
           "#B6E880",
           "#FF97FF",
           "#FECB52"
          ],
          "font": {
           "color": "#2a3f5f"
          },
          "geo": {
           "bgcolor": "white",
           "lakecolor": "white",
           "landcolor": "#E5ECF6",
           "showlakes": true,
           "showland": true,
           "subunitcolor": "white"
          },
          "hoverlabel": {
           "align": "left"
          },
          "hovermode": "closest",
          "mapbox": {
           "style": "light"
          },
          "paper_bgcolor": "white",
          "plot_bgcolor": "#E5ECF6",
          "polar": {
           "angularaxis": {
            "gridcolor": "white",
            "linecolor": "white",
            "ticks": ""
           },
           "bgcolor": "#E5ECF6",
           "radialaxis": {
            "gridcolor": "white",
            "linecolor": "white",
            "ticks": ""
           }
          },
          "scene": {
           "xaxis": {
            "backgroundcolor": "#E5ECF6",
            "gridcolor": "white",
            "gridwidth": 2,
            "linecolor": "white",
            "showbackground": true,
            "ticks": "",
            "zerolinecolor": "white"
           },
           "yaxis": {
            "backgroundcolor": "#E5ECF6",
            "gridcolor": "white",
            "gridwidth": 2,
            "linecolor": "white",
            "showbackground": true,
            "ticks": "",
            "zerolinecolor": "white"
           },
           "zaxis": {
            "backgroundcolor": "#E5ECF6",
            "gridcolor": "white",
            "gridwidth": 2,
            "linecolor": "white",
            "showbackground": true,
            "ticks": "",
            "zerolinecolor": "white"
           }
          },
          "shapedefaults": {
           "line": {
            "color": "#2a3f5f"
           }
          },
          "ternary": {
           "aaxis": {
            "gridcolor": "white",
            "linecolor": "white",
            "ticks": ""
           },
           "baxis": {
            "gridcolor": "white",
            "linecolor": "white",
            "ticks": ""
           },
           "bgcolor": "#E5ECF6",
           "caxis": {
            "gridcolor": "white",
            "linecolor": "white",
            "ticks": ""
           }
          },
          "title": {
           "x": 0.05
          },
          "xaxis": {
           "automargin": true,
           "gridcolor": "white",
           "linecolor": "white",
           "ticks": "",
           "title": {
            "standoff": 15
           },
           "zerolinecolor": "white",
           "zerolinewidth": 2
          },
          "yaxis": {
           "automargin": true,
           "gridcolor": "white",
           "linecolor": "white",
           "ticks": "",
           "title": {
            "standoff": 15
           },
           "zerolinecolor": "white",
           "zerolinewidth": 2
          }
         }
        },
        "title": {
         "text": "Number of Tweets By Country"
        }
       }
      },
      "text/html": [
       "<div>                            <div id=\"7673bacd-aeaa-4bdf-bfb0-a14ebff476ab\" class=\"plotly-graph-div\" style=\"height:525px; width:100%;\"></div>            <script type=\"text/javascript\">                require([\"plotly\"], function(Plotly) {                    window.PLOTLYENV=window.PLOTLYENV || {};                                    if (document.getElementById(\"7673bacd-aeaa-4bdf-bfb0-a14ebff476ab\")) {                    Plotly.newPlot(                        \"7673bacd-aeaa-4bdf-bfb0-a14ebff476ab\",                        [{\"colorbar\": {\"title\": {\"text\": \"Number of Tweets\"}}, \"colorscale\": [[0.0, \"#000004\"], [0.1111111111111111, \"#1b0c41\"], [0.2222222222222222, \"#4a0c6b\"], [0.3333333333333333, \"#781c6d\"], [0.4444444444444444, \"#a52c60\"], [0.5555555555555556, \"#cf4446\"], [0.6666666666666666, \"#ed6925\"], [0.7777777777777778, \"#fb9b06\"], [0.8888888888888888, \"#f7d13d\"], [1.0, \"#fcffa4\"]], \"locations\": [\"USA\", \"GBR\", \"IND\", \"CAN\", \"AUS\", \"UK\", \"NGA\", \"ZAF\", \"KEN\", \"FRA\", \"SGP\", \"NZL\", \"IRL\", \"UGA\", \"MYS\", \"PAK\"], \"marker\": {\"line\": {\"color\": \"rgb(255,255,255)\", \"width\": 2}}, \"text\": [4617.0, 1949.0, 683.0, 588.0, 584.0, 232.0, 212.0, 178.0, 144.0, 101.0, 87.0, 75.0, 61.0, 58.0, 50.0, 45.0], \"type\": \"choropleth\", \"z\": [4617, 1949, 683, 588, 584, 232, 212, 178, 144, 101, 87, 75, 61, 58, 50, 45]}],                        {\"geo\": {\"lakecolor\": \"rgb(85,173,240)\", \"projection\": {\"type\": \"equirectangular\"}, \"showlakes\": false}, \"template\": {\"data\": {\"bar\": [{\"error_x\": {\"color\": \"#2a3f5f\"}, \"error_y\": {\"color\": \"#2a3f5f\"}, \"marker\": {\"line\": {\"color\": \"#E5ECF6\", \"width\": 0.5}}, \"type\": \"bar\"}], \"barpolar\": [{\"marker\": {\"line\": {\"color\": \"#E5ECF6\", \"width\": 0.5}}, \"type\": \"barpolar\"}], \"carpet\": [{\"aaxis\": {\"endlinecolor\": \"#2a3f5f\", \"gridcolor\": \"white\", \"linecolor\": \"white\", \"minorgridcolor\": \"white\", \"startlinecolor\": \"#2a3f5f\"}, \"baxis\": {\"endlinecolor\": \"#2a3f5f\", \"gridcolor\": \"white\", \"linecolor\": \"white\", \"minorgridcolor\": \"white\", \"startlinecolor\": \"#2a3f5f\"}, \"type\": \"carpet\"}], \"choropleth\": [{\"colorbar\": {\"outlinewidth\": 0, \"ticks\": \"\"}, \"type\": \"choropleth\"}], \"contour\": [{\"colorbar\": {\"outlinewidth\": 0, \"ticks\": \"\"}, \"colorscale\": [[0.0, \"#0d0887\"], [0.1111111111111111, \"#46039f\"], [0.2222222222222222, \"#7201a8\"], [0.3333333333333333, \"#9c179e\"], [0.4444444444444444, \"#bd3786\"], [0.5555555555555556, \"#d8576b\"], [0.6666666666666666, \"#ed7953\"], [0.7777777777777778, \"#fb9f3a\"], [0.8888888888888888, \"#fdca26\"], [1.0, \"#f0f921\"]], \"type\": \"contour\"}], \"contourcarpet\": [{\"colorbar\": {\"outlinewidth\": 0, \"ticks\": \"\"}, \"type\": \"contourcarpet\"}], \"heatmap\": [{\"colorbar\": {\"outlinewidth\": 0, \"ticks\": \"\"}, \"colorscale\": [[0.0, \"#0d0887\"], [0.1111111111111111, \"#46039f\"], [0.2222222222222222, \"#7201a8\"], [0.3333333333333333, \"#9c179e\"], [0.4444444444444444, \"#bd3786\"], [0.5555555555555556, \"#d8576b\"], [0.6666666666666666, \"#ed7953\"], [0.7777777777777778, \"#fb9f3a\"], [0.8888888888888888, \"#fdca26\"], [1.0, \"#f0f921\"]], \"type\": \"heatmap\"}], \"heatmapgl\": [{\"colorbar\": {\"outlinewidth\": 0, \"ticks\": \"\"}, \"colorscale\": [[0.0, \"#0d0887\"], [0.1111111111111111, \"#46039f\"], [0.2222222222222222, \"#7201a8\"], [0.3333333333333333, \"#9c179e\"], [0.4444444444444444, \"#bd3786\"], [0.5555555555555556, \"#d8576b\"], [0.6666666666666666, \"#ed7953\"], [0.7777777777777778, \"#fb9f3a\"], [0.8888888888888888, \"#fdca26\"], [1.0, \"#f0f921\"]], \"type\": \"heatmapgl\"}], \"histogram\": [{\"marker\": {\"colorbar\": {\"outlinewidth\": 0, \"ticks\": \"\"}}, \"type\": \"histogram\"}], \"histogram2d\": [{\"colorbar\": {\"outlinewidth\": 0, \"ticks\": \"\"}, \"colorscale\": [[0.0, \"#0d0887\"], [0.1111111111111111, \"#46039f\"], [0.2222222222222222, \"#7201a8\"], [0.3333333333333333, \"#9c179e\"], [0.4444444444444444, \"#bd3786\"], [0.5555555555555556, \"#d8576b\"], [0.6666666666666666, \"#ed7953\"], [0.7777777777777778, \"#fb9f3a\"], [0.8888888888888888, \"#fdca26\"], [1.0, \"#f0f921\"]], \"type\": \"histogram2d\"}], \"histogram2dcontour\": [{\"colorbar\": {\"outlinewidth\": 0, \"ticks\": \"\"}, \"colorscale\": [[0.0, \"#0d0887\"], [0.1111111111111111, \"#46039f\"], [0.2222222222222222, \"#7201a8\"], [0.3333333333333333, \"#9c179e\"], [0.4444444444444444, \"#bd3786\"], [0.5555555555555556, \"#d8576b\"], [0.6666666666666666, \"#ed7953\"], [0.7777777777777778, \"#fb9f3a\"], [0.8888888888888888, \"#fdca26\"], [1.0, \"#f0f921\"]], \"type\": \"histogram2dcontour\"}], \"mesh3d\": [{\"colorbar\": {\"outlinewidth\": 0, \"ticks\": \"\"}, \"type\": \"mesh3d\"}], \"parcoords\": [{\"line\": {\"colorbar\": {\"outlinewidth\": 0, \"ticks\": \"\"}}, \"type\": \"parcoords\"}], \"pie\": [{\"automargin\": true, \"type\": \"pie\"}], \"scatter\": [{\"marker\": {\"colorbar\": {\"outlinewidth\": 0, \"ticks\": \"\"}}, \"type\": \"scatter\"}], \"scatter3d\": [{\"line\": {\"colorbar\": {\"outlinewidth\": 0, \"ticks\": \"\"}}, \"marker\": {\"colorbar\": {\"outlinewidth\": 0, \"ticks\": \"\"}}, \"type\": \"scatter3d\"}], \"scattercarpet\": [{\"marker\": {\"colorbar\": {\"outlinewidth\": 0, \"ticks\": \"\"}}, \"type\": \"scattercarpet\"}], \"scattergeo\": [{\"marker\": {\"colorbar\": {\"outlinewidth\": 0, \"ticks\": \"\"}}, \"type\": \"scattergeo\"}], \"scattergl\": [{\"marker\": {\"colorbar\": {\"outlinewidth\": 0, \"ticks\": \"\"}}, \"type\": \"scattergl\"}], \"scattermapbox\": [{\"marker\": {\"colorbar\": {\"outlinewidth\": 0, \"ticks\": \"\"}}, \"type\": \"scattermapbox\"}], \"scatterpolar\": [{\"marker\": {\"colorbar\": {\"outlinewidth\": 0, \"ticks\": \"\"}}, \"type\": \"scatterpolar\"}], \"scatterpolargl\": [{\"marker\": {\"colorbar\": {\"outlinewidth\": 0, \"ticks\": \"\"}}, \"type\": \"scatterpolargl\"}], \"scatterternary\": [{\"marker\": {\"colorbar\": {\"outlinewidth\": 0, \"ticks\": \"\"}}, \"type\": \"scatterternary\"}], \"surface\": [{\"colorbar\": {\"outlinewidth\": 0, \"ticks\": \"\"}, \"colorscale\": [[0.0, \"#0d0887\"], [0.1111111111111111, \"#46039f\"], [0.2222222222222222, \"#7201a8\"], [0.3333333333333333, \"#9c179e\"], [0.4444444444444444, \"#bd3786\"], [0.5555555555555556, \"#d8576b\"], [0.6666666666666666, \"#ed7953\"], [0.7777777777777778, \"#fb9f3a\"], [0.8888888888888888, \"#fdca26\"], [1.0, \"#f0f921\"]], \"type\": \"surface\"}], \"table\": [{\"cells\": {\"fill\": {\"color\": \"#EBF0F8\"}, \"line\": {\"color\": \"white\"}}, \"header\": {\"fill\": {\"color\": \"#C8D4E3\"}, \"line\": {\"color\": \"white\"}}, \"type\": \"table\"}]}, \"layout\": {\"annotationdefaults\": {\"arrowcolor\": \"#2a3f5f\", \"arrowhead\": 0, \"arrowwidth\": 1}, \"coloraxis\": {\"colorbar\": {\"outlinewidth\": 0, \"ticks\": \"\"}}, \"colorscale\": {\"diverging\": [[0, \"#8e0152\"], [0.1, \"#c51b7d\"], [0.2, \"#de77ae\"], [0.3, \"#f1b6da\"], [0.4, \"#fde0ef\"], [0.5, \"#f7f7f7\"], [0.6, \"#e6f5d0\"], [0.7, \"#b8e186\"], [0.8, \"#7fbc41\"], [0.9, \"#4d9221\"], [1, \"#276419\"]], \"sequential\": [[0.0, \"#0d0887\"], [0.1111111111111111, \"#46039f\"], [0.2222222222222222, \"#7201a8\"], [0.3333333333333333, \"#9c179e\"], [0.4444444444444444, \"#bd3786\"], [0.5555555555555556, \"#d8576b\"], [0.6666666666666666, \"#ed7953\"], [0.7777777777777778, \"#fb9f3a\"], [0.8888888888888888, \"#fdca26\"], [1.0, \"#f0f921\"]], \"sequentialminus\": [[0.0, \"#0d0887\"], [0.1111111111111111, \"#46039f\"], [0.2222222222222222, \"#7201a8\"], [0.3333333333333333, \"#9c179e\"], [0.4444444444444444, \"#bd3786\"], [0.5555555555555556, \"#d8576b\"], [0.6666666666666666, \"#ed7953\"], [0.7777777777777778, \"#fb9f3a\"], [0.8888888888888888, \"#fdca26\"], [1.0, \"#f0f921\"]]}, \"colorway\": [\"#636efa\", \"#EF553B\", \"#00cc96\", \"#ab63fa\", \"#FFA15A\", \"#19d3f3\", \"#FF6692\", \"#B6E880\", \"#FF97FF\", \"#FECB52\"], \"font\": {\"color\": \"#2a3f5f\"}, \"geo\": {\"bgcolor\": \"white\", \"lakecolor\": \"white\", \"landcolor\": \"#E5ECF6\", \"showlakes\": true, \"showland\": true, \"subunitcolor\": \"white\"}, \"hoverlabel\": {\"align\": \"left\"}, \"hovermode\": \"closest\", \"mapbox\": {\"style\": \"light\"}, \"paper_bgcolor\": \"white\", \"plot_bgcolor\": \"#E5ECF6\", \"polar\": {\"angularaxis\": {\"gridcolor\": \"white\", \"linecolor\": \"white\", \"ticks\": \"\"}, \"bgcolor\": \"#E5ECF6\", \"radialaxis\": {\"gridcolor\": \"white\", \"linecolor\": \"white\", \"ticks\": \"\"}}, \"scene\": {\"xaxis\": {\"backgroundcolor\": \"#E5ECF6\", \"gridcolor\": \"white\", \"gridwidth\": 2, \"linecolor\": \"white\", \"showbackground\": true, \"ticks\": \"\", \"zerolinecolor\": \"white\"}, \"yaxis\": {\"backgroundcolor\": \"#E5ECF6\", \"gridcolor\": \"white\", \"gridwidth\": 2, \"linecolor\": \"white\", \"showbackground\": true, \"ticks\": \"\", \"zerolinecolor\": \"white\"}, \"zaxis\": {\"backgroundcolor\": \"#E5ECF6\", \"gridcolor\": \"white\", \"gridwidth\": 2, \"linecolor\": \"white\", \"showbackground\": true, \"ticks\": \"\", \"zerolinecolor\": \"white\"}}, \"shapedefaults\": {\"line\": {\"color\": \"#2a3f5f\"}}, \"ternary\": {\"aaxis\": {\"gridcolor\": \"white\", \"linecolor\": \"white\", \"ticks\": \"\"}, \"baxis\": {\"gridcolor\": \"white\", \"linecolor\": \"white\", \"ticks\": \"\"}, \"bgcolor\": \"#E5ECF6\", \"caxis\": {\"gridcolor\": \"white\", \"linecolor\": \"white\", \"ticks\": \"\"}}, \"title\": {\"x\": 0.05}, \"xaxis\": {\"automargin\": true, \"gridcolor\": \"white\", \"linecolor\": \"white\", \"ticks\": \"\", \"title\": {\"standoff\": 15}, \"zerolinecolor\": \"white\", \"zerolinewidth\": 2}, \"yaxis\": {\"automargin\": true, \"gridcolor\": \"white\", \"linecolor\": \"white\", \"ticks\": \"\", \"title\": {\"standoff\": 15}, \"zerolinecolor\": \"white\", \"zerolinewidth\": 2}}}, \"title\": {\"text\": \"Number of Tweets By Country\"}},                        {\"responsive\": true}                    ).then(function(){\n",
       "                            \n",
       "var gd = document.getElementById('7673bacd-aeaa-4bdf-bfb0-a14ebff476ab');\n",
       "var x = new MutationObserver(function (mutations, observer) {{\n",
       "        var display = window.getComputedStyle(gd).display;\n",
       "        if (!display || display === 'none') {{\n",
       "            console.log([gd, 'removed!']);\n",
       "            Plotly.purge(gd);\n",
       "            observer.disconnect();\n",
       "        }}\n",
       "}});\n",
       "\n",
       "// Listen for the removal of the full notebook cells\n",
       "var notebookContainer = gd.closest('#notebook-container');\n",
       "if (notebookContainer) {{\n",
       "    x.observe(notebookContainer, {childList: true});\n",
       "}}\n",
       "\n",
       "// Listen for the clearing of the current output cell\n",
       "var outputEl = gd.closest('.output');\n",
       "if (outputEl) {{\n",
       "    x.observe(outputEl, {childList: true});\n",
       "}}\n",
       "\n",
       "                        })                };                });            </script>        </div>"
      ]
     },
     "metadata": {},
     "output_type": "display_data"
    }
   ],
   "source": [
    "iplot(choromap)"
   ]
  },
  {
   "cell_type": "markdown",
   "metadata": {},
   "source": [
    "## 3) Wordcloud"
   ]
  },
  {
   "cell_type": "code",
   "execution_count": 115,
   "metadata": {},
   "outputs": [],
   "source": [
    "# image courtesy of https://tse2.mm.bing.net/th?id=OIP.VLv_PpEOc8TDwuTNvj5hWQHaHa&pid=Api\n",
    "mask = np.array(Image.open(\"rona4.jpeg\"))"
   ]
  },
  {
   "cell_type": "code",
   "execution_count": 116,
   "metadata": {},
   "outputs": [],
   "source": [
    "#text = df['newTweet'].to_string(index = False)\n",
    "#text = re.sub(r'\\n','',text)\n",
    "#wordcloud = WordCloud(colormap = 'Blues', mask = mask).generate(text)\n",
    "#plt.figure(figsize = (10,6))\n",
    "#plt.imshow(wordcloud, interpolation='bilinear')\n",
    "#plt.axis(\"off\")\n",
    "#plt.show()"
   ]
  },
  {
   "cell_type": "code",
   "execution_count": 117,
   "metadata": {},
   "outputs": [],
   "source": [
    "# Positive WordCloud\n",
    "pos_df = df[df['label'] == 1]\n",
    "pos_text = pos_df['newTweet'].to_string(index = False)\n",
    "pos_text = re.sub(r'\\n','',pos_text)\n",
    "pos_cloud = WordCloud(colormap = 'Greens', mask = mask).generate(pos_text)"
   ]
  },
  {
   "cell_type": "code",
   "execution_count": 118,
   "metadata": {},
   "outputs": [],
   "source": [
    "# Negative WordCloud\n",
    "neut_df = df[df['label'] == 0]\n",
    "neut_text = neut_df['newTweet'].to_string(index = False)\n",
    "neut_text = re.sub(r'\\n','', neut_text)\n",
    "neut_cloud = WordCloud(colormap = 'Blues', mask = mask).generate(neut_text)"
   ]
  },
  {
   "cell_type": "code",
   "execution_count": 119,
   "metadata": {},
   "outputs": [],
   "source": [
    "# Negative wordcloud\n",
    "neg_df = df[df['label'] == -1]\n",
    "neg_text = neg_df['newTweet'].to_string(index = False)\n",
    "neg_text = re.sub(r'\\n','', neg_text)\n",
    "neg_cloud = WordCloud(colormap = 'Reds', mask = mask).generate(neg_text)"
   ]
  },
  {
   "cell_type": "code",
   "execution_count": 120,
   "metadata": {},
   "outputs": [
    {
     "data": {
      "text/plain": [
       "(-0.5, 473.5, 473.5, -0.5)"
      ]
     },
     "execution_count": 120,
     "metadata": {},
     "output_type": "execute_result"
    },
    {
     "data": {
      "image/png": "[encoded data removed]",
      "text/plain": [
       "<Figure size 2160x1440 with 3 Axes>"
      ]
     },
     "metadata": {
      "needs_background": "light"
     },
     "output_type": "display_data"
    }
   ],
   "source": [
    "fig, (ax1, ax2, ax3) = plt.subplots(1, 3, figsize = [30,20])\n",
    "ax1.imshow(pos_cloud)\n",
    "ax1.set_title('Positive Cloud', fontsize = 30)\n",
    "ax1.axis('off')\n",
    "ax2.imshow(neut_cloud)\n",
    "ax2.set_title('Neutral Cloud', fontsize = 30)\n",
    "ax2.axis('off')\n",
    "ax3.imshow(neg_cloud)\n",
    "ax3.set_title('Negative Cloud', fontsize = 30)\n",
    "ax3.axis('off')"
   ]
  },
  {
   "cell_type": "markdown",
   "metadata": {},
   "source": [
    "Tried to use an image of the coronavirus for the mask, it certainly could have turned out better...\n",
    "'Grocery store', 'price', 'super market', and 'online shopping' being frequent in both positive and negative tweets is interesting.  Some stand-out negative terms are 'panic buying' and 'toilet paper'. For positive, 'hand sanitizer' catches my attention. "
   ]
  },
  {
   "cell_type": "markdown",
   "metadata": {},
   "source": [
    "## 4) Classification"
   ]
  },
  {
   "cell_type": "code",
   "execution_count": 121,
   "metadata": {},
   "outputs": [],
   "source": [
    "# Set X and y.\n",
    "X = df['newTweet']\n",
    "y = df['label']\n",
    "\n",
    "# Split data into training and test sets.\n",
    "X_train, X_test, y_train, y_test = train_test_split(X, y, test_size=0.3)"
   ]
  },
  {
   "cell_type": "code",
   "execution_count": 122,
   "metadata": {},
   "outputs": [],
   "source": [
    "# Define dictionary of classification methods.\n",
    "clf = dict({'SVC': LinearSVC(max_iter = 5000),\n",
    "            'Logisitc': LogisticRegression(max_iter = 5000),\n",
    "            'NaiveBayes': MultinomialNB(),\n",
    "            'RandomForest': RandomForestClassifier(),\n",
    "           })"
   ]
  },
  {
   "cell_type": "code",
   "execution_count": 123,
   "metadata": {},
   "outputs": [],
   "source": [
    "# Function that will iterate through models and print \n",
    "# classifcation reports and accuracies for each model.\n",
    "def models(clf, vectorizer, X_train, X_test, y_train, y_test):\n",
    "    \"\"\"\n",
    "    Input:\n",
    "        clf: dictionary containing classification methods\n",
    "        vectorizer: ex TfidfVectorizer, CountVectorizer\n",
    "        X_train: X training data\n",
    "        X_test: X testing data\n",
    "        y_train: y training labels\n",
    "        y_test: y testing label\n",
    "    \n",
    "    Output: \n",
    "        output_df: a DataFrame containing the weighted average\n",
    "        accuracy, precision, recall, and f1 score of each method\n",
    "    \"\"\"\n",
    "    \n",
    "    accuracy_dict = {}\n",
    "    clf_dict = {}\n",
    "    precision_dict = {}\n",
    "    recall_dict = {}\n",
    "    f1_dict = {}\n",
    "    for classifier in clf.keys():\n",
    "        model = Pipeline([('vectorizer',vectorizer),\n",
    "                    ('clf', clf[classifier]),\n",
    "                    ])\n",
    "        model.fit(X_train, y_train)\n",
    "        preds = model.predict(X_test)\n",
    "        \n",
    "        accuracy_dict[classifier] = accuracy_score(y_test,preds)\n",
    "        clf_dict[classifier] = classification_report(y_test,preds, output_dict = True)\n",
    "        precision_dict[classifier] = clf_dict[classifier]['weighted avg']['precision']\n",
    "        recall_dict[classifier] = clf_dict[classifier]['weighted avg']['recall']\n",
    "        f1_dict[classifier] = clf_dict[classifier]['weighted avg']['f1-score']\n",
    "           \n",
    "        print(classifier)\n",
    "        print(classification_report(y_test,preds))\n",
    "        print(classifier + ' Accuracy:', accuracy_score(y_test,preds))\n",
    "        print('\\n')\n",
    "    \n",
    "    acc_df = pd.DataFrame.from_dict(accuracy_dict, orient = 'index', columns = ['accuracy'])\n",
    "    acc_df.reset_index(inplace = True)\n",
    "    acc_df.columns = ['method', 'accuracy']\n",
    "    \n",
    "    precision_df = pd.DataFrame.from_dict(precision_dict, orient = 'index', columns = ['precision'])\n",
    "    precision_df.reset_index(inplace = True)\n",
    "    precision_df.columns = ['method', 'precision']\n",
    "    \n",
    "    recall_df = pd.DataFrame.from_dict(recall_dict, orient = 'index', columns = ['recall'])\n",
    "    recall_df.reset_index(inplace = True)\n",
    "    recall_df.columns = ['method', 'recall']\n",
    "    \n",
    "    f1_df = pd.DataFrame.from_dict(f1_dict, orient = 'index', columns = ['f1-score'])\n",
    "    f1_df.reset_index(inplace = True)\n",
    "    f1_df.columns = ['method', 'f1-score']\n",
    "    \n",
    "    output_df = acc_df.set_index('method').join(precision_df.set_index('method'))\n",
    "    output_df = output_df.join(recall_df.set_index('method'))\n",
    "    output_df = output_df.join(f1_df.set_index('method'))\n",
    "    output_df.reset_index(inplace = True)\n",
    "    \n",
    "    return output_df"
   ]
  },
  {
   "cell_type": "code",
   "execution_count": 124,
   "metadata": {},
   "outputs": [
    {
     "name": "stdout",
     "output_type": "stream",
     "text": [
      "SVC\n",
      "              precision    recall  f1-score   support\n",
      "\n",
      "          -1       0.80      0.81      0.81      4664\n",
      "           0       0.72      0.65      0.68      2302\n",
      "           1       0.82      0.85      0.84      5382\n",
      "\n",
      "    accuracy                           0.80     12348\n",
      "   macro avg       0.78      0.77      0.77     12348\n",
      "weighted avg       0.80      0.80      0.80     12348\n",
      "\n",
      "SVC Accuracy: 0.7972951085195983\n",
      "\n",
      "\n",
      "Logisitc\n",
      "              precision    recall  f1-score   support\n",
      "\n",
      "          -1       0.79      0.80      0.79      4664\n",
      "           0       0.73      0.58      0.65      2302\n",
      "           1       0.79      0.86      0.82      5382\n",
      "\n",
      "    accuracy                           0.78     12348\n",
      "   macro avg       0.77      0.74      0.75     12348\n",
      "weighted avg       0.78      0.78      0.78     12348\n",
      "\n",
      "Logisitc Accuracy: 0.7828798185941043\n",
      "\n",
      "\n",
      "NaiveBayes\n",
      "              precision    recall  f1-score   support\n",
      "\n",
      "          -1       0.75      0.62      0.68      4664\n",
      "           0       0.84      0.01      0.03      2302\n",
      "           1       0.58      0.91      0.71      5382\n",
      "\n",
      "    accuracy                           0.63     12348\n",
      "   macro avg       0.72      0.52      0.47     12348\n",
      "weighted avg       0.69      0.63      0.57     12348\n",
      "\n",
      "NaiveBayes Accuracy: 0.6344347262714609\n",
      "\n",
      "\n",
      "RandomForest\n",
      "              precision    recall  f1-score   support\n",
      "\n",
      "          -1       0.76      0.70      0.73      4664\n",
      "           0       0.63      0.61      0.62      2302\n",
      "           1       0.74      0.81      0.77      5382\n",
      "\n",
      "    accuracy                           0.73     12348\n",
      "   macro avg       0.71      0.70      0.71     12348\n",
      "weighted avg       0.73      0.73      0.73     12348\n",
      "\n",
      "RandomForest Accuracy: 0.7276482021379981\n",
      "\n",
      "\n"
     ]
    }
   ],
   "source": [
    "# Run models function to get output.\n",
    "tfidf_df = models(clf, TfidfVectorizer(), X_train, X_test, y_train, y_test)"
   ]
  },
  {
   "cell_type": "markdown",
   "metadata": {},
   "source": [
    "### Using TfidfVectorizer, SVC comes out as the best model, very slightly over Logistic Regression. Naive Bayes comes out as the worst model, with an absurdly low recall on neutral tweets, but the best recall on positive tweets. Strange."
   ]
  },
  {
   "cell_type": "code",
   "execution_count": 125,
   "metadata": {},
   "outputs": [
    {
     "name": "stdout",
     "output_type": "stream",
     "text": [
      "SVC\n",
      "              precision    recall  f1-score   support\n",
      "\n",
      "          -1       0.80      0.78      0.79      4664\n",
      "           0       0.66      0.70      0.68      2302\n",
      "           1       0.83      0.82      0.82      5382\n",
      "\n",
      "    accuracy                           0.78     12348\n",
      "   macro avg       0.76      0.77      0.77     12348\n",
      "weighted avg       0.79      0.78      0.78     12348\n",
      "\n",
      "SVC Accuracy: 0.7840136054421769\n",
      "\n",
      "\n",
      "Logisitc\n",
      "              precision    recall  f1-score   support\n",
      "\n",
      "          -1       0.81      0.79      0.80      4664\n",
      "           0       0.68      0.73      0.70      2302\n",
      "           1       0.84      0.83      0.83      5382\n",
      "\n",
      "    accuracy                           0.80     12348\n",
      "   macro avg       0.78      0.78      0.78     12348\n",
      "weighted avg       0.80      0.80      0.80     12348\n",
      "\n",
      "Logisitc Accuracy: 0.7955944282474895\n",
      "\n",
      "\n",
      "NaiveBayes\n",
      "              precision    recall  f1-score   support\n",
      "\n",
      "          -1       0.69      0.74      0.71      4664\n",
      "           0       0.72      0.24      0.36      2302\n",
      "           1       0.67      0.82      0.73      5382\n",
      "\n",
      "    accuracy                           0.68     12348\n",
      "   macro avg       0.69      0.60      0.60     12348\n",
      "weighted avg       0.69      0.68      0.66     12348\n",
      "\n",
      "NaiveBayes Accuracy: 0.6788953676708779\n",
      "\n",
      "\n",
      "RandomForest\n",
      "              precision    recall  f1-score   support\n",
      "\n",
      "          -1       0.79      0.71      0.75      4664\n",
      "           0       0.66      0.71      0.68      2302\n",
      "           1       0.77      0.81      0.79      5382\n",
      "\n",
      "    accuracy                           0.75     12348\n",
      "   macro avg       0.74      0.74      0.74     12348\n",
      "weighted avg       0.75      0.75      0.75     12348\n",
      "\n",
      "RandomForest Accuracy: 0.7524295432458697\n",
      "\n",
      "\n"
     ]
    }
   ],
   "source": [
    "count_df = models(clf, CountVectorizer(), X_train, X_test, y_train, y_test)"
   ]
  },
  {
   "cell_type": "markdown",
   "metadata": {},
   "source": [
    "### Logistic Regression barely comes out on top when using the CountVectorizer.  Every model except saw improvement using this method, except for SVC. "
   ]
  },
  {
   "cell_type": "code",
   "execution_count": 126,
   "metadata": {},
   "outputs": [],
   "source": [
    "tfidf_df['vectorizer'] = 'tfidf'\n",
    "tfidf_df['format'] = 'None'\n",
    "count_df['vectorizer'] = 'count'\n",
    "count_df['format'] = 'None'\n",
    "combined_df = tfidf_df.append(count_df)\n",
    "#combined_df.sort_values(by = ['accuracy','f1-score'], ascending = False)"
   ]
  },
  {
   "cell_type": "code",
   "execution_count": 127,
   "metadata": {},
   "outputs": [],
   "source": [
    "#g = sns.FacetGrid(combined_df, col = 'vectorizer', height = 5)\n",
    "#g.map_dataframe(sns.barplot, x = 'method', y = 'accuracy', palette = 'rainbow')\n",
    "#g.set_xticklabels(rotation = 90)"
   ]
  },
  {
   "cell_type": "code",
   "execution_count": 128,
   "metadata": {},
   "outputs": [],
   "source": [
    "#g = sns.FacetGrid(combined_df, col = 'vectorizer', height = 5)\n",
    "#g.map_dataframe(sns.barplot, x = 'method', y = 'f1-score', palette = 'rainbow')\n",
    "#g.set_xticklabels(rotation = 90)"
   ]
  },
  {
   "cell_type": "markdown",
   "metadata": {},
   "source": [
    "These barplots don't really help explain anything... come up with better viz or way to present results"
   ]
  },
  {
   "cell_type": "markdown",
   "metadata": {},
   "source": [
    "Try Porterstemmer"
   ]
  },
  {
   "cell_type": "code",
   "execution_count": 129,
   "metadata": {},
   "outputs": [],
   "source": [
    "# Set X and y.\n",
    "X = df['stemTweet']\n",
    "y = df['label']\n",
    "\n",
    "# Split data into training and test sets.\n",
    "X_train, X_test, y_train, y_test = train_test_split(X, y, test_size=0.3)"
   ]
  },
  {
   "cell_type": "code",
   "execution_count": 130,
   "metadata": {},
   "outputs": [
    {
     "name": "stdout",
     "output_type": "stream",
     "text": [
      "SVC\n",
      "              precision    recall  f1-score   support\n",
      "\n",
      "          -1       0.79      0.81      0.80      4485\n",
      "           0       0.72      0.62      0.66      2440\n",
      "           1       0.81      0.85      0.83      5423\n",
      "\n",
      "    accuracy                           0.79     12348\n",
      "   macro avg       0.77      0.76      0.77     12348\n",
      "weighted avg       0.79      0.79      0.79     12348\n",
      "\n",
      "SVC Accuracy: 0.7887917071590541\n",
      "\n",
      "\n",
      "Logisitc\n",
      "              precision    recall  f1-score   support\n",
      "\n",
      "          -1       0.77      0.80      0.79      4485\n",
      "           0       0.76      0.58      0.66      2440\n",
      "           1       0.79      0.85      0.82      5423\n",
      "\n",
      "    accuracy                           0.78     12348\n",
      "   macro avg       0.78      0.75      0.76     12348\n",
      "weighted avg       0.78      0.78      0.78     12348\n",
      "\n",
      "Logisitc Accuracy: 0.7811791383219955\n",
      "\n",
      "\n",
      "NaiveBayes\n",
      "              precision    recall  f1-score   support\n",
      "\n",
      "          -1       0.71      0.65      0.68      4485\n",
      "           0       0.89      0.01      0.03      2440\n",
      "           1       0.59      0.89      0.71      5423\n",
      "\n",
      "    accuracy                           0.63     12348\n",
      "   macro avg       0.73      0.52      0.47     12348\n",
      "weighted avg       0.69      0.63      0.56     12348\n",
      "\n",
      "NaiveBayes Accuracy: 0.630709426627794\n",
      "\n",
      "\n",
      "RandomForest\n",
      "              precision    recall  f1-score   support\n",
      "\n",
      "          -1       0.76      0.73      0.74      4485\n",
      "           0       0.71      0.61      0.65      2440\n",
      "           1       0.74      0.82      0.78      5423\n",
      "\n",
      "    accuracy                           0.74     12348\n",
      "   macro avg       0.74      0.72      0.73     12348\n",
      "weighted avg       0.74      0.74      0.74     12348\n",
      "\n",
      "RandomForest Accuracy: 0.7428733398121153\n",
      "\n",
      "\n"
     ]
    }
   ],
   "source": [
    "stem_tfidf_df = models(clf, TfidfVectorizer(), X_train, X_test, y_train, y_test)"
   ]
  },
  {
   "cell_type": "code",
   "execution_count": 131,
   "metadata": {},
   "outputs": [
    {
     "name": "stdout",
     "output_type": "stream",
     "text": [
      "SVC\n",
      "              precision    recall  f1-score   support\n",
      "\n",
      "          -1       0.78      0.78      0.78      4485\n",
      "           0       0.65      0.66      0.65      2440\n",
      "           1       0.82      0.81      0.81      5423\n",
      "\n",
      "    accuracy                           0.77     12348\n",
      "   macro avg       0.75      0.75      0.75     12348\n",
      "weighted avg       0.77      0.77      0.77     12348\n",
      "\n",
      "SVC Accuracy: 0.7689504373177842\n",
      "\n",
      "\n",
      "Logisitc\n",
      "              precision    recall  f1-score   support\n",
      "\n",
      "          -1       0.80      0.79      0.79      4485\n",
      "           0       0.70      0.70      0.70      2440\n",
      "           1       0.83      0.83      0.83      5423\n",
      "\n",
      "    accuracy                           0.79     12348\n",
      "   macro avg       0.77      0.77      0.77     12348\n",
      "weighted avg       0.79      0.79      0.79     12348\n",
      "\n",
      "Logisitc Accuracy: 0.7908163265306123\n",
      "\n",
      "\n",
      "NaiveBayes\n",
      "              precision    recall  f1-score   support\n",
      "\n",
      "          -1       0.65      0.74      0.70      4485\n",
      "           0       0.70      0.22      0.34      2440\n",
      "           1       0.67      0.80      0.73      5423\n",
      "\n",
      "    accuracy                           0.66     12348\n",
      "   macro avg       0.67      0.59      0.59     12348\n",
      "weighted avg       0.67      0.66      0.64     12348\n",
      "\n",
      "NaiveBayes Accuracy: 0.6633462908973113\n",
      "\n",
      "\n",
      "RandomForest\n",
      "              precision    recall  f1-score   support\n",
      "\n",
      "          -1       0.77      0.73      0.75      4485\n",
      "           0       0.74      0.68      0.71      2440\n",
      "           1       0.76      0.82      0.79      5423\n",
      "\n",
      "    accuracy                           0.76     12348\n",
      "   macro avg       0.75      0.74      0.75     12348\n",
      "weighted avg       0.76      0.76      0.76     12348\n",
      "\n",
      "RandomForest Accuracy: 0.7584224165856819\n",
      "\n",
      "\n"
     ]
    }
   ],
   "source": [
    "stem_count_df = models(clf, CountVectorizer(), X_train, X_test, y_train, y_test)"
   ]
  },
  {
   "cell_type": "code",
   "execution_count": 132,
   "metadata": {},
   "outputs": [],
   "source": [
    "stem_tfidf_df['vectorizer'] = 'tfidf'\n",
    "stem_tfidf_df['format'] = 'stemming'\n",
    "stem_count_df['vectorizer'] = 'count'\n",
    "stem_count_df['format'] = 'stemming'\n",
    "stem_df = stem_tfidf_df.append(stem_count_df)\n",
    "#stem_df.sort_values(by = ['accuracy','f1-score'], ascending = False)"
   ]
  },
  {
   "cell_type": "code",
   "execution_count": 133,
   "metadata": {},
   "outputs": [],
   "source": [
    "#combined_df.sort_values(by = ['accuracy','f1-score'], ascending = False)"
   ]
  },
  {
   "cell_type": "code",
   "execution_count": 134,
   "metadata": {},
   "outputs": [
    {
     "name": "stdout",
     "output_type": "stream",
     "text": [
      "SVC\n",
      "              precision    recall  f1-score   support\n",
      "\n",
      "          -1       0.80      0.80      0.80      4558\n",
      "           0       0.69      0.63      0.66      2291\n",
      "           1       0.82      0.85      0.84      5499\n",
      "\n",
      "    accuracy                           0.79     12348\n",
      "   macro avg       0.77      0.76      0.77     12348\n",
      "weighted avg       0.79      0.79      0.79     12348\n",
      "\n",
      "SVC Accuracy: 0.7928409459021704\n",
      "\n",
      "\n",
      "Logisitc\n",
      "              precision    recall  f1-score   support\n",
      "\n",
      "          -1       0.79      0.80      0.79      4558\n",
      "           0       0.72      0.57      0.63      2291\n",
      "           1       0.80      0.86      0.83      5499\n",
      "\n",
      "    accuracy                           0.78     12348\n",
      "   macro avg       0.77      0.74      0.75     12348\n",
      "weighted avg       0.78      0.78      0.78     12348\n",
      "\n",
      "Logisitc Accuracy: 0.7812601230968578\n",
      "\n",
      "\n",
      "NaiveBayes\n",
      "              precision    recall  f1-score   support\n",
      "\n",
      "          -1       0.72      0.64      0.68      4558\n",
      "           0       0.87      0.01      0.03      2291\n",
      "           1       0.60      0.90      0.72      5499\n",
      "\n",
      "    accuracy                           0.64     12348\n",
      "   macro avg       0.73      0.52      0.48     12348\n",
      "weighted avg       0.69      0.64      0.58     12348\n",
      "\n",
      "NaiveBayes Accuracy: 0.6392938127632005\n",
      "\n",
      "\n",
      "RandomForest\n",
      "              precision    recall  f1-score   support\n",
      "\n",
      "          -1       0.75      0.70      0.72      4558\n",
      "           0       0.65      0.60      0.62      2291\n",
      "           1       0.74      0.80      0.77      5499\n",
      "\n",
      "    accuracy                           0.73     12348\n",
      "   macro avg       0.71      0.70      0.71     12348\n",
      "weighted avg       0.73      0.73      0.73     12348\n",
      "\n",
      "RandomForest Accuracy: 0.7277291869128604\n",
      "\n",
      "\n",
      "SVC\n",
      "              precision    recall  f1-score   support\n",
      "\n",
      "          -1       0.80      0.78      0.79      4558\n",
      "           0       0.64      0.67      0.66      2291\n",
      "           1       0.82      0.82      0.82      5499\n",
      "\n",
      "    accuracy                           0.78     12348\n",
      "   macro avg       0.76      0.76      0.76     12348\n",
      "weighted avg       0.78      0.78      0.78     12348\n",
      "\n",
      "SVC Accuracy: 0.7813411078717201\n",
      "\n",
      "\n",
      "Logisitc\n",
      "              precision    recall  f1-score   support\n",
      "\n",
      "          -1       0.81      0.79      0.80      4558\n",
      "           0       0.67      0.70      0.68      2291\n",
      "           1       0.83      0.84      0.84      5499\n",
      "\n",
      "    accuracy                           0.79     12348\n",
      "   macro avg       0.77      0.78      0.77     12348\n",
      "weighted avg       0.80      0.79      0.79     12348\n",
      "\n",
      "Logisitc Accuracy: 0.79421768707483\n",
      "\n",
      "\n",
      "NaiveBayes\n",
      "              precision    recall  f1-score   support\n",
      "\n",
      "          -1       0.67      0.74      0.71      4558\n",
      "           0       0.70      0.23      0.34      2291\n",
      "           1       0.68      0.81      0.74      5499\n",
      "\n",
      "    accuracy                           0.68     12348\n",
      "   macro avg       0.68      0.59      0.59     12348\n",
      "weighted avg       0.68      0.68      0.65     12348\n",
      "\n",
      "NaiveBayes Accuracy: 0.6763848396501457\n",
      "\n",
      "\n",
      "RandomForest\n",
      "              precision    recall  f1-score   support\n",
      "\n",
      "          -1       0.77      0.71      0.74      4558\n",
      "           0       0.67      0.66      0.67      2291\n",
      "           1       0.77      0.82      0.79      5499\n",
      "\n",
      "    accuracy                           0.75     12348\n",
      "   macro avg       0.73      0.73      0.73     12348\n",
      "weighted avg       0.75      0.75      0.75     12348\n",
      "\n",
      "RandomForest Accuracy: 0.7499190152251377\n",
      "\n",
      "\n"
     ]
    }
   ],
   "source": [
    "# Set X and y.\n",
    "X = df['lemmaTweet']\n",
    "y = df['label']\n",
    "\n",
    "# Split data into training and test sets.\n",
    "X_train, X_test, y_train, y_test = train_test_split(X, y, test_size=0.3)\n",
    "\n",
    "lemma_tfidf_df = models(clf, TfidfVectorizer(), X_train, X_test, y_train, y_test)\n",
    "lemma_count_df = models(clf, CountVectorizer(), X_train, X_test, y_train, y_test)"
   ]
  },
  {
   "cell_type": "code",
   "execution_count": 135,
   "metadata": {},
   "outputs": [],
   "source": [
    "lemma_tfidf_df['vectorizer'] = 'tfidf'\n",
    "lemma_tfidf_df['format'] = 'lemmatization'\n",
    "lemma_count_df['vectorizer'] = 'count'\n",
    "lemma_count_df['format'] = 'lemmatization'\n",
    "lemma_df = lemma_tfidf_df.append(lemma_count_df)\n",
    "#lemma_df.sort_values(by = ['accuracy','f1-score'], ascending = False)"
   ]
  },
  {
   "cell_type": "code",
   "execution_count": 136,
   "metadata": {},
   "outputs": [
    {
     "data": {
      "text/html": [
       "<div>\n",
       "<style scoped>\n",
       "    .dataframe tbody tr th:only-of-type {\n",
       "        vertical-align: middle;\n",
       "    }\n",
       "\n",
       "    .dataframe tbody tr th {\n",
       "        vertical-align: top;\n",
       "    }\n",
       "\n",
       "    .dataframe thead th {\n",
       "        text-align: right;\n",
       "    }\n",
       "</style>\n",
       "<table border=\"1\" class=\"dataframe\">\n",
       "  <thead>\n",
       "    <tr style=\"text-align: right;\">\n",
       "      <th></th>\n",
       "      <th>method</th>\n",
       "      <th>accuracy</th>\n",
       "      <th>precision</th>\n",
       "      <th>recall</th>\n",
       "      <th>f1-score</th>\n",
       "      <th>vectorizer</th>\n",
       "      <th>format</th>\n",
       "    </tr>\n",
       "  </thead>\n",
       "  <tbody>\n",
       "    <tr>\n",
       "      <th>0</th>\n",
       "      <td>SVC</td>\n",
       "      <td>0.797295</td>\n",
       "      <td>0.795479</td>\n",
       "      <td>0.797295</td>\n",
       "      <td>0.795943</td>\n",
       "      <td>tfidf</td>\n",
       "      <td>None</td>\n",
       "    </tr>\n",
       "    <tr>\n",
       "      <th>1</th>\n",
       "      <td>Logisitc</td>\n",
       "      <td>0.795594</td>\n",
       "      <td>0.797500</td>\n",
       "      <td>0.795594</td>\n",
       "      <td>0.796305</td>\n",
       "      <td>count</td>\n",
       "      <td>None</td>\n",
       "    </tr>\n",
       "    <tr>\n",
       "      <th>1</th>\n",
       "      <td>Logisitc</td>\n",
       "      <td>0.794218</td>\n",
       "      <td>0.795538</td>\n",
       "      <td>0.794218</td>\n",
       "      <td>0.794725</td>\n",
       "      <td>count</td>\n",
       "      <td>lemmatization</td>\n",
       "    </tr>\n",
       "    <tr>\n",
       "      <th>0</th>\n",
       "      <td>SVC</td>\n",
       "      <td>0.792841</td>\n",
       "      <td>0.790535</td>\n",
       "      <td>0.792841</td>\n",
       "      <td>0.791185</td>\n",
       "      <td>tfidf</td>\n",
       "      <td>lemmatization</td>\n",
       "    </tr>\n",
       "    <tr>\n",
       "      <th>1</th>\n",
       "      <td>Logisitc</td>\n",
       "      <td>0.790816</td>\n",
       "      <td>0.790685</td>\n",
       "      <td>0.790816</td>\n",
       "      <td>0.790740</td>\n",
       "      <td>count</td>\n",
       "      <td>stemming</td>\n",
       "    </tr>\n",
       "    <tr>\n",
       "      <th>0</th>\n",
       "      <td>SVC</td>\n",
       "      <td>0.788792</td>\n",
       "      <td>0.786423</td>\n",
       "      <td>0.788792</td>\n",
       "      <td>0.786704</td>\n",
       "      <td>tfidf</td>\n",
       "      <td>stemming</td>\n",
       "    </tr>\n",
       "    <tr>\n",
       "      <th>0</th>\n",
       "      <td>SVC</td>\n",
       "      <td>0.784014</td>\n",
       "      <td>0.785773</td>\n",
       "      <td>0.784014</td>\n",
       "      <td>0.784725</td>\n",
       "      <td>count</td>\n",
       "      <td>None</td>\n",
       "    </tr>\n",
       "    <tr>\n",
       "      <th>1</th>\n",
       "      <td>Logisitc</td>\n",
       "      <td>0.782880</td>\n",
       "      <td>0.780544</td>\n",
       "      <td>0.782880</td>\n",
       "      <td>0.779444</td>\n",
       "      <td>tfidf</td>\n",
       "      <td>None</td>\n",
       "    </tr>\n",
       "    <tr>\n",
       "      <th>0</th>\n",
       "      <td>SVC</td>\n",
       "      <td>0.781341</td>\n",
       "      <td>0.782897</td>\n",
       "      <td>0.781341</td>\n",
       "      <td>0.781999</td>\n",
       "      <td>count</td>\n",
       "      <td>lemmatization</td>\n",
       "    </tr>\n",
       "    <tr>\n",
       "      <th>1</th>\n",
       "      <td>Logisitc</td>\n",
       "      <td>0.781260</td>\n",
       "      <td>0.778182</td>\n",
       "      <td>0.781260</td>\n",
       "      <td>0.777549</td>\n",
       "      <td>tfidf</td>\n",
       "      <td>lemmatization</td>\n",
       "    </tr>\n",
       "    <tr>\n",
       "      <th>1</th>\n",
       "      <td>Logisitc</td>\n",
       "      <td>0.781179</td>\n",
       "      <td>0.779963</td>\n",
       "      <td>0.781179</td>\n",
       "      <td>0.777616</td>\n",
       "      <td>tfidf</td>\n",
       "      <td>stemming</td>\n",
       "    </tr>\n",
       "    <tr>\n",
       "      <th>0</th>\n",
       "      <td>SVC</td>\n",
       "      <td>0.768950</td>\n",
       "      <td>0.769316</td>\n",
       "      <td>0.768950</td>\n",
       "      <td>0.769126</td>\n",
       "      <td>count</td>\n",
       "      <td>stemming</td>\n",
       "    </tr>\n",
       "    <tr>\n",
       "      <th>3</th>\n",
       "      <td>RandomForest</td>\n",
       "      <td>0.758422</td>\n",
       "      <td>0.758065</td>\n",
       "      <td>0.758422</td>\n",
       "      <td>0.757508</td>\n",
       "      <td>count</td>\n",
       "      <td>stemming</td>\n",
       "    </tr>\n",
       "    <tr>\n",
       "      <th>3</th>\n",
       "      <td>RandomForest</td>\n",
       "      <td>0.752430</td>\n",
       "      <td>0.754756</td>\n",
       "      <td>0.752430</td>\n",
       "      <td>0.752453</td>\n",
       "      <td>count</td>\n",
       "      <td>None</td>\n",
       "    </tr>\n",
       "    <tr>\n",
       "      <th>3</th>\n",
       "      <td>RandomForest</td>\n",
       "      <td>0.749919</td>\n",
       "      <td>0.750007</td>\n",
       "      <td>0.749919</td>\n",
       "      <td>0.749148</td>\n",
       "      <td>count</td>\n",
       "      <td>lemmatization</td>\n",
       "    </tr>\n",
       "    <tr>\n",
       "      <th>3</th>\n",
       "      <td>RandomForest</td>\n",
       "      <td>0.742873</td>\n",
       "      <td>0.742020</td>\n",
       "      <td>0.742873</td>\n",
       "      <td>0.740877</td>\n",
       "      <td>tfidf</td>\n",
       "      <td>stemming</td>\n",
       "    </tr>\n",
       "    <tr>\n",
       "      <th>3</th>\n",
       "      <td>RandomForest</td>\n",
       "      <td>0.727729</td>\n",
       "      <td>0.726352</td>\n",
       "      <td>0.727729</td>\n",
       "      <td>0.726153</td>\n",
       "      <td>tfidf</td>\n",
       "      <td>lemmatization</td>\n",
       "    </tr>\n",
       "    <tr>\n",
       "      <th>3</th>\n",
       "      <td>RandomForest</td>\n",
       "      <td>0.727648</td>\n",
       "      <td>0.727812</td>\n",
       "      <td>0.727648</td>\n",
       "      <td>0.726467</td>\n",
       "      <td>tfidf</td>\n",
       "      <td>None</td>\n",
       "    </tr>\n",
       "    <tr>\n",
       "      <th>2</th>\n",
       "      <td>NaiveBayes</td>\n",
       "      <td>0.678895</td>\n",
       "      <td>0.685607</td>\n",
       "      <td>0.678895</td>\n",
       "      <td>0.656011</td>\n",
       "      <td>count</td>\n",
       "      <td>None</td>\n",
       "    </tr>\n",
       "    <tr>\n",
       "      <th>2</th>\n",
       "      <td>NaiveBayes</td>\n",
       "      <td>0.676385</td>\n",
       "      <td>0.679718</td>\n",
       "      <td>0.676385</td>\n",
       "      <td>0.652143</td>\n",
       "      <td>count</td>\n",
       "      <td>lemmatization</td>\n",
       "    </tr>\n",
       "    <tr>\n",
       "      <th>2</th>\n",
       "      <td>NaiveBayes</td>\n",
       "      <td>0.663346</td>\n",
       "      <td>0.669000</td>\n",
       "      <td>0.663346</td>\n",
       "      <td>0.637666</td>\n",
       "      <td>count</td>\n",
       "      <td>stemming</td>\n",
       "    </tr>\n",
       "    <tr>\n",
       "      <th>2</th>\n",
       "      <td>NaiveBayes</td>\n",
       "      <td>0.639294</td>\n",
       "      <td>0.693476</td>\n",
       "      <td>0.639294</td>\n",
       "      <td>0.575722</td>\n",
       "      <td>tfidf</td>\n",
       "      <td>lemmatization</td>\n",
       "    </tr>\n",
       "    <tr>\n",
       "      <th>2</th>\n",
       "      <td>NaiveBayes</td>\n",
       "      <td>0.634435</td>\n",
       "      <td>0.692576</td>\n",
       "      <td>0.634435</td>\n",
       "      <td>0.570821</td>\n",
       "      <td>tfidf</td>\n",
       "      <td>None</td>\n",
       "    </tr>\n",
       "    <tr>\n",
       "      <th>2</th>\n",
       "      <td>NaiveBayes</td>\n",
       "      <td>0.630709</td>\n",
       "      <td>0.691577</td>\n",
       "      <td>0.630709</td>\n",
       "      <td>0.563676</td>\n",
       "      <td>tfidf</td>\n",
       "      <td>stemming</td>\n",
       "    </tr>\n",
       "  </tbody>\n",
       "</table>\n",
       "</div>"
      ],
      "text/plain": [
       "         method  accuracy  precision    recall  f1-score vectorizer  \\\n",
       "0           SVC  0.797295   0.795479  0.797295  0.795943      tfidf   \n",
       "1      Logisitc  0.795594   0.797500  0.795594  0.796305      count   \n",
       "1      Logisitc  0.794218   0.795538  0.794218  0.794725      count   \n",
       "0           SVC  0.792841   0.790535  0.792841  0.791185      tfidf   \n",
       "1      Logisitc  0.790816   0.790685  0.790816  0.790740      count   \n",
       "0           SVC  0.788792   0.786423  0.788792  0.786704      tfidf   \n",
       "0           SVC  0.784014   0.785773  0.784014  0.784725      count   \n",
       "1      Logisitc  0.782880   0.780544  0.782880  0.779444      tfidf   \n",
       "0           SVC  0.781341   0.782897  0.781341  0.781999      count   \n",
       "1      Logisitc  0.781260   0.778182  0.781260  0.777549      tfidf   \n",
       "1      Logisitc  0.781179   0.779963  0.781179  0.777616      tfidf   \n",
       "0           SVC  0.768950   0.769316  0.768950  0.769126      count   \n",
       "3  RandomForest  0.758422   0.758065  0.758422  0.757508      count   \n",
       "3  RandomForest  0.752430   0.754756  0.752430  0.752453      count   \n",
       "3  RandomForest  0.749919   0.750007  0.749919  0.749148      count   \n",
       "3  RandomForest  0.742873   0.742020  0.742873  0.740877      tfidf   \n",
       "3  RandomForest  0.727729   0.726352  0.727729  0.726153      tfidf   \n",
       "3  RandomForest  0.727648   0.727812  0.727648  0.726467      tfidf   \n",
       "2    NaiveBayes  0.678895   0.685607  0.678895  0.656011      count   \n",
       "2    NaiveBayes  0.676385   0.679718  0.676385  0.652143      count   \n",
       "2    NaiveBayes  0.663346   0.669000  0.663346  0.637666      count   \n",
       "2    NaiveBayes  0.639294   0.693476  0.639294  0.575722      tfidf   \n",
       "2    NaiveBayes  0.634435   0.692576  0.634435  0.570821      tfidf   \n",
       "2    NaiveBayes  0.630709   0.691577  0.630709  0.563676      tfidf   \n",
       "\n",
       "          format  \n",
       "0           None  \n",
       "1           None  \n",
       "1  lemmatization  \n",
       "0  lemmatization  \n",
       "1       stemming  \n",
       "0       stemming  \n",
       "0           None  \n",
       "1           None  \n",
       "0  lemmatization  \n",
       "1  lemmatization  \n",
       "1       stemming  \n",
       "0       stemming  \n",
       "3       stemming  \n",
       "3           None  \n",
       "3  lemmatization  \n",
       "3       stemming  \n",
       "3  lemmatization  \n",
       "3           None  \n",
       "2           None  \n",
       "2  lemmatization  \n",
       "2       stemming  \n",
       "2  lemmatization  \n",
       "2           None  \n",
       "2       stemming  "
      ]
     },
     "execution_count": 136,
     "metadata": {},
     "output_type": "execute_result"
    }
   ],
   "source": [
    "final_df = lemma_df.append(stem_df)\n",
    "final_df = final_df.append(combined_df)\n",
    "final_df.sort_values(by = ['accuracy', 'f1-score'], ascending = False)"
   ]
  },
  {
   "cell_type": "code",
   "execution_count": null,
   "metadata": {},
   "outputs": [],
   "source": []
  }
 ],
 "metadata": {
  "kernelspec": {
   "display_name": "Python 3",
   "language": "python",
   "name": "python3"
  },
  "language_info": {
   "codemirror_mode": {
    "name": "ipython",
    "version": 3
   },
   "file_extension": ".py",
   "mimetype": "text/x-python",
   "name": "python",
   "nbconvert_exporter": "python",
   "pygments_lexer": "ipython3",
   "version": "3.6.9"
  }
 },
 "nbformat": 4,
 "nbformat_minor": 4
}
